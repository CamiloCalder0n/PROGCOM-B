{
  "nbformat": 4,
  "nbformat_minor": 0,
  "metadata": {
    "colab": {
      "provenance": []
    },
    "kernelspec": {
      "name": "python3",
      "display_name": "Python 3"
    },
    "language_info": {
      "name": "python"
    }
  },
  "cells": [
    {
      "cell_type": "markdown",
      "source": [
        "##Ejercicio 20\n",
        "---\n",
        "Escribe un programa que adivine entre un conjunto de diez colores definidos por el usuario, con un máximo de 10 intentos.\n",
        "\n",
        "* Por comprension\n",
        "* por lambda"
      ],
      "metadata": {
        "id": "JmHirXCVnyPZ"
      }
    },
    {
      "cell_type": "code",
      "source": [
        "# Metodo lambda\n",
        "\n",
        "colores = [input(f\"Color {i+1}: \") for i in range(10)]\n",
        "verificar = lambda x: x in colores\n",
        "adivinanza = input(\"Piensa en uno e ingresa 'listo': \")\n",
        "if adivinanza.lower() == \"listo\":\n",
        "    intentos = 0\n",
        "    while intentos < 10:\n",
        "        intento = input(\"Ingresa tu suposición: \")\n",
        "        if verificar(intento):\n",
        "            print(f\"¡Adivinaste! {intento} está en la lista.\")\n",
        "            break\n",
        "        intentos += 1\n",
        "        print(f\"Intento {intentos}/10.\")\n",
        "    if intentos == 10:\n",
        "        print(\"Se acabaron los intentos.\")"
      ],
      "metadata": {
        "id": "lqISV0Xmo2X_"
      },
      "execution_count": null,
      "outputs": []
    },
    {
      "cell_type": "code",
      "source": [
        "# Metodo de comprension\n",
        "\n",
        "colores = [input(f\"Color {i+1}: \") for i in range(10)]\n",
        "adivinanza = input(\"Piensa en uno de esos colores e ingresa 'listo': \")\n",
        "if adivinanza.lower() == \"listo\":\n",
        "    intentos = 0\n",
        "    while intentos < 10:\n",
        "        intento = input(\"Ingresa tu suposición de color: \")\n",
        "        if intento in colores:\n",
        "            print(f\"¡Adivinaste! El color {intento} estaba en la lista.\")\n",
        "            break\n",
        "        else:\n",
        "            intentos += 1\n",
        "            print(f\"Intento {intentos}/10. No está en la lista, intenta de nuevo.\")\n",
        "    if intentos == 10:\n",
        "        print(\"Se acabaron los intentos.\")"
      ],
      "metadata": {
        "id": "uDK9tnJopNrG"
      },
      "execution_count": null,
      "outputs": []
    },
    {
      "cell_type": "markdown",
      "source": [
        "##Ejercicio 21\n",
        "---\n",
        "Desarrolla un programa que muestre los números pares del 1 al 100.\n",
        "\n",
        "* Por comprension\n",
        "* por lambda"
      ],
      "metadata": {
        "id": "s6tWdNOqpji6"
      }
    },
    {
      "cell_type": "code",
      "source": [
        "# Metodo lambda\n",
        "\n",
        "es_par = lambda x: x % 2 == 0\n",
        "pares = list(filter(es_par, range(1, 101)))\n",
        "print(*pares)"
      ],
      "metadata": {
        "id": "ge1eEI2jpt82"
      },
      "execution_count": null,
      "outputs": []
    },
    {
      "cell_type": "code",
      "source": [
        "# Metodo de comprension\n",
        "\n",
        "pares = [num for num in range(1, 101) if num % 2 == 0]\n",
        "print(*pares)"
      ],
      "metadata": {
        "id": "AGzw6ZE3qAjG"
      },
      "execution_count": null,
      "outputs": []
    },
    {
      "cell_type": "markdown",
      "source": [
        "##Ejercicio 22\n",
        "---\n",
        "Crea un programa que calcule la suma de los dígitos de un número.\n",
        "\n",
        "* Por comprension\n",
        "* por lambda"
      ],
      "metadata": {
        "id": "czzOQaNrqPwD"
      }
    },
    {
      "cell_type": "code",
      "source": [
        "# Metodo lambda\n",
        "\n",
        "numero = int(input(\"Ingresa un número: \"))\n",
        "suma_digitos = lambda x: sum(int(d) for d in str(x))\n",
        "print(f\"La suma de los dígitos es: {suma_digitos(numero)}\")"
      ],
      "metadata": {
        "id": "1gld9fkZqaPk"
      },
      "execution_count": null,
      "outputs": []
    },
    {
      "cell_type": "code",
      "source": [
        "# Metodo de comprension\n",
        "\n",
        "numero = int(input(\"Ingresa un número: \"))\n",
        "suma = sum([int(digito) for digito in str(numero)])\n",
        "print(f\"La suma de los dígitos es: {suma}\")"
      ],
      "metadata": {
        "id": "aQXYapefqkd8"
      },
      "execution_count": null,
      "outputs": []
    },
    {
      "cell_type": "markdown",
      "source": [
        "##Ejercicio 23\n",
        "---\n",
        "Escribe un programa que determine si un número es primo.\n",
        "\n",
        "* Por comprension\n",
        "* por lambda"
      ],
      "metadata": {
        "id": "wB8Am1u2qp-t"
      }
    },
    {
      "cell_type": "code",
      "source": [
        "# Metodo lambda\n",
        "\n",
        "numero = int(input(\"Ingresa un número: \"))\n",
        "es_divisor = lambda x, y: x % y == 0\n",
        "divisores = list(filter(lambda x: es_divisor(numero, x), range(2, int(numero ** 0.5) + 1)))\n",
        "es_primo = numero >= 2 and len(divisores) == 0\n",
        "print(f\"{numero} {'es' if es_primo else 'no es'} primo.\")"
      ],
      "metadata": {
        "id": "OHE_VOQ4q3lb"
      },
      "execution_count": null,
      "outputs": []
    },
    {
      "cell_type": "code",
      "source": [
        "# Metodo de comprension\n",
        "\n",
        "numero = int(input(\"Ingresa un número: \"))\n",
        "divisores = [i for i in range(2, int(numero ** 0.5) + 1) if numero % i == 0]\n",
        "es_primo = numero >= 2 and len(divisores) == 0\n",
        "print(f\"{numero} {'es' if es_primo else 'no es'} primo.\")"
      ],
      "metadata": {
        "id": "_aTXCYQusClV"
      },
      "execution_count": null,
      "outputs": []
    },
    {
      "cell_type": "markdown",
      "source": [
        "##Ejercicio 24\n",
        "---\n",
        "Desarrolla un programa que muestre el patrón de un triángulo con asteriscos.\n",
        "\n",
        "* Por comprension\n",
        "* por lambda"
      ],
      "metadata": {
        "id": "JT2ZhQLIscBs"
      }
    },
    {
      "cell_type": "code",
      "source": [
        "# Metodo lambda\n",
        "\n",
        "n = 5\n",
        "generar_linea = lambda i: \" \" * (n - i - 1) + \"*\" * (2 * i + 1)\n",
        "lineas = [generar_linea(i) for i in range(n)]\n",
        "print(\"\\n\".join(lineas))"
      ],
      "metadata": {
        "id": "vC53zuo4skZY"
      },
      "execution_count": null,
      "outputs": []
    },
    {
      "cell_type": "code",
      "source": [
        "# Metodo de comprension\n",
        "\n",
        "n = 5\n",
        "lineas = [\" \" * (n - i - 1) + \"*\" * (2 * i + 1) for i in range(n)]\n",
        "print(\"\\n\".join(lineas))"
      ],
      "metadata": {
        "id": "L1MkjSrPsn8c"
      },
      "execution_count": null,
      "outputs": []
    },
    {
      "cell_type": "markdown",
      "source": [
        "##Ejercicio 25\n",
        "---\n",
        "Crea un programa que calcule la potencia de un número sin usar el operador **.\n",
        "\n",
        "* Por comprension\n",
        "* por lambda"
      ],
      "metadata": {
        "id": "fPw57frEs5FA"
      }
    },
    {
      "cell_type": "code",
      "source": [
        "# Metodo lambda\n",
        "\n",
        "base = int(input(\"Ingresa la base: \"))\n",
        "exponente = int(input(\"Ingresa el exponente: \"))\n",
        "multiplicar = lambda x, y: x * y\n",
        "resultado = base\n",
        "for _ in range(exponente - 1):\n",
        "    resultado = multiplicar(resultado, base)\n",
        "print(f\"{base} elevado a {exponente} es: {resultado if exponente > 0 else 1}\")"
      ],
      "metadata": {
        "id": "m-_F6HH1tIRI"
      },
      "execution_count": null,
      "outputs": []
    },
    {
      "cell_type": "code",
      "source": [
        "# Metodo de comprension\n",
        "\n",
        "base = int(input(\"Ingresa la base: \"))\n",
        "exponente = int(input(\"Ingresa el exponente: \"))\n",
        "resultado = [base for _ in range(exponente)]\n",
        "total = 1\n",
        "for x in resultado:\n",
        "    total *= x\n",
        "print(f\"{base} elevado a {exponente} es: {total}\")"
      ],
      "metadata": {
        "id": "tKsbYpGMtPta"
      },
      "execution_count": null,
      "outputs": []
    },
    {
      "cell_type": "markdown",
      "source": [
        "##Ejercicio 26\n",
        "---\n",
        "Escribe un programa que muestre todas las tablas de multiplicar del 1 al 10.\n",
        "\n",
        "* Por comprension\n",
        "* por lambda"
      ],
      "metadata": {
        "id": "JkhaWcGOtV70"
      }
    },
    {
      "cell_type": "code",
      "source": [
        "# Metodo lambda\n",
        "\n",
        "def tablas_multiplicar():\n",
        "    multiplicar = lambda x, y: x * y\n",
        "    tablas = [f\"{i} x {j} = {multiplicar(i, j)}\" for i in range(1, 11) for j in range(1, 11)]\n",
        "    print(\"\\n\".join(tablas))\n",
        "\n",
        "tablas_multiplicar()"
      ],
      "metadata": {
        "id": "FRUmvQJFtnek"
      },
      "execution_count": null,
      "outputs": []
    },
    {
      "cell_type": "code",
      "source": [
        "# Metodo de comprension\n",
        "\n",
        "def tablas_multiplicar():\n",
        "    tablas = [f\"{i} x {j} = {i * j}\" for i in range(1, 11) for j in range(1, 11)]\n",
        "    print(\"\\n\".join(tablas))\n",
        "\n",
        "tablas_multiplicar()"
      ],
      "metadata": {
        "id": "FlmQC2vCt_LK"
      },
      "execution_count": null,
      "outputs": []
    },
    {
      "cell_type": "markdown",
      "source": [
        "##Ejercicio 27\n",
        "---\n",
        "Desarrolla un programa que encuentre todos los números perfectos hasta n.\n",
        "\n",
        "* Por comprension\n",
        "* por lambda"
      ],
      "metadata": {
        "id": "qcZ5HOXJuI8S"
      }
    },
    {
      "cell_type": "code",
      "source": [
        "# Metodo lambda\n",
        "\n",
        "def es_perfecto(num):\n",
        "    es_divisor = lambda x, y: x % y == 0\n",
        "    return num == sum(filter(lambda x: es_divisor(num, x), range(1, num)))\n",
        "\n",
        "def numeros_perfectos(n):\n",
        "    perfectos = [i for i in range(1, n + 1) if es_perfecto(i)]\n",
        "    print(f\"Números perfectos hasta {n}: {perfectos}\")\n",
        "\n",
        "n = int(input(\"Ingresa un número n: \"))\n",
        "numeros_perfectos(n)"
      ],
      "metadata": {
        "id": "jgvLu8TzuNa2"
      },
      "execution_count": null,
      "outputs": []
    },
    {
      "cell_type": "code",
      "source": [
        "# Metodo de comprension\n",
        "\n",
        "def es_perfecto(num):\n",
        "    return num == sum([i for i in range(1, num) if num % i == 0])\n",
        "\n",
        "def numeros_perfectos(n):\n",
        "    perfectos = [i for i in range(1, n + 1) if es_perfecto(i)]\n",
        "    print(f\"Números perfectos hasta {n}: {perfectos}\")\n",
        "\n",
        "n = int(input(\"Ingresa un número n: \"))\n",
        "numeros_perfectos(n)"
      ],
      "metadata": {
        "id": "WDQnGKQ1ufT3"
      },
      "execution_count": null,
      "outputs": []
    },
    {
      "cell_type": "markdown",
      "source": [
        "##Ejercicio 28\n",
        "---\n",
        "Crea un programa que genere un patrón de diamante con asteriscos.\n",
        "\n",
        "* Por comprension\n",
        "* por lambda"
      ],
      "metadata": {
        "id": "r5LZxgyFu-CT"
      }
    },
    {
      "cell_type": "code",
      "source": [
        "# Metodo lambda\n",
        "\n",
        "def diamante(n):\n",
        "    generar_linea = lambda i: \" \" * (n - i - 1) + \"*\" * (2 * i + 1)\n",
        "    superior = [generar_linea(i) for i in range(n)]\n",
        "    inferior = [generar_linea(i) for i in range(n - 2, -1, -1)]\n",
        "    print(\"\\n\".join(superior + inferior))\n",
        "\n",
        "n = 4\n",
        "diamante(n)"
      ],
      "metadata": {
        "id": "zwNfrjVpvCaF"
      },
      "execution_count": null,
      "outputs": []
    },
    {
      "cell_type": "code",
      "source": [
        "# Metodo de comprension\n",
        "\n",
        "def diamante(n):\n",
        "    superior = [\" \" * (n - i - 1) + \"*\" * (2 * i + 1) for i in range(n)]\n",
        "    inferior = [\" \" * (n - i - 1) + \"*\" * (2 * i + 1) for i in range(n - 2, -1, -1)]\n",
        "    print(\"\\n\".join(superior + inferior))\n",
        "\n",
        "n = 4\n",
        "diamante(n)"
      ],
      "metadata": {
        "id": "mflVjE0FvK3h"
      },
      "execution_count": null,
      "outputs": []
    },
    {
      "cell_type": "markdown",
      "source": [
        "##Ejercicio 29\n",
        "---\n",
        "Escribe un programa que encuentre todos los números Armstrong hasta n.\n",
        "\n",
        "* Por comprension\n",
        "* por lambda"
      ],
      "metadata": {
        "id": "s0edYpdDvRYc"
      }
    },
    {
      "cell_type": "code",
      "source": [
        "# Metodo lambda\n",
        "\n",
        "def es_armstrong(num):\n",
        "    potencia = lambda x, y: x ** y\n",
        "    return num == sum(map(lambda d: potencia(int(d), len(str(num))), str(num)))\n",
        "\n",
        "def numeros_armstrong(n):\n",
        "    armstrong = [i for i in range(1, n + 1) if es_armstrong(i)]\n",
        "    print(f\"Números Armstrong hasta {n}: {armstrong}\")\n",
        "\n",
        "n = int(input(\"Ingresa un número n: \"))\n",
        "numeros_armstrong(n)"
      ],
      "metadata": {
        "id": "rJSp-zOPvXIE"
      },
      "execution_count": null,
      "outputs": []
    },
    {
      "cell_type": "code",
      "source": [
        "# Metodo de comprension\n",
        "\n",
        "def es_armstrong(num):\n",
        "    return num == sum([int(d) ** len(str(num)) for d in str(num)])\n",
        "\n",
        "def numeros_armstrong(n):\n",
        "    armstrong = [i for i in range(1, n + 1) if es_armstrong(i)]\n",
        "    print(f\"Números Armstrong hasta {n}: {armstrong}\")\n",
        "\n",
        "n = int(input(\"Ingresa un número n: \"))\n",
        "numeros_armstrong(n)"
      ],
      "metadata": {
        "id": "EXqp_nOmvdUu"
      },
      "execution_count": null,
      "outputs": []
    },
    {
      "cell_type": "markdown",
      "source": [
        "##Ejercicio 30\n",
        "---\n",
        "Desarrolla un programa que simule un reloj digital mostrando horas, minutos y segundos durante un período específico.\n",
        "\n",
        "* Por comprension\n",
        "* por lambda"
      ],
      "metadata": {
        "id": "c1WcpFC-vmvj"
      }
    },
    {
      "cell_type": "code",
      "source": [
        "# Metodo lambda\n",
        "\n",
        "def reloj_digital(segundos_totales):\n",
        "    formato = lambda t: f\"{t // 3600:02d}:{(t % 3600) // 60:02d}:{t % 60:02d}\"\n",
        "    tiempos = [formato(t) for t in range(segundos_totales + 1)]\n",
        "    print(\"\\n\".join(tiempos))\n",
        "\n",
        "segundos = 10\n",
        "reloj_digital(segundos)"
      ],
      "metadata": {
        "id": "C5jDWWDsvrG2"
      },
      "execution_count": null,
      "outputs": []
    },
    {
      "cell_type": "code",
      "source": [
        "# Metodo de comprension\n",
        "\n",
        "def reloj_digital(segundos_totales):\n",
        "    tiempos = [f\"{t // 3600:02d}:{(t % 3600) // 60:02d}:{t % 60:02d}\" for t in range(segundos_totales + 1)]\n",
        "    print(\"\\n\".join(tiempos))\n",
        "\n",
        "segundos = 10\n",
        "reloj_digital(segundos)"
      ],
      "metadata": {
        "id": "0AiNkHn6v0Pi"
      },
      "execution_count": null,
      "outputs": []
    }
  ]
}