{
  "nbformat": 4,
  "nbformat_minor": 0,
  "metadata": {
    "colab": {
      "provenance": []
    },
    "kernelspec": {
      "name": "python3",
      "display_name": "Python 3"
    },
    "language_info": {
      "name": "python"
    }
  },
  "cells": [
    {
      "cell_type": "markdown",
      "source": [
        "#Ejercicios de listas\n",
        "##Ejercicio 16\n",
        "Crea un programa que muestre la tabla de multiplicar de un número hasta el 10.\n"
      ],
      "metadata": {
        "id": "uTRT2gSJxaWv"
      }
    },
    {
      "cell_type": "code",
      "source": [
        "def generar_tabla(numero):\n",
        "    return [numero * i for i in range(1, 11)]\n",
        "\n",
        "def mostrar_tabla(tabla, numero):\n",
        "    print(f\"Tabla de multiplicar del {numero}:\")\n",
        "    for i, resultado in enumerate(tabla, start=1):\n",
        "        print(f\"{numero} x {i} = {resultado}\")\n",
        "\n",
        "def main():\n",
        "    numero = int(input(\"Introduce un número para mostrar su tabla de multiplicar: \"))\n",
        "    tabla = generar_tabla(numero)\n",
        "    mostrar_tabla(tabla, numero)\n",
        "\n",
        "if __name__ == \"__main__\":\n",
        "    main()"
      ],
      "metadata": {
        "colab": {
          "base_uri": "https://localhost:8080/"
        },
        "id": "hL-F1AEFxrgs",
        "outputId": "4dc9974a-f435-4264-fa5a-d9a081d8c7dd"
      },
      "execution_count": 1,
      "outputs": [
        {
          "output_type": "stream",
          "name": "stdout",
          "text": [
            "Introduce un número para mostrar su tabla de multiplicar: 2\n",
            "Tabla de multiplicar del 2:\n",
            "2 x 1 = 2\n",
            "2 x 2 = 4\n",
            "2 x 3 = 6\n",
            "2 x 4 = 8\n",
            "2 x 5 = 10\n",
            "2 x 6 = 12\n",
            "2 x 7 = 14\n",
            "2 x 8 = 16\n",
            "2 x 9 = 18\n",
            "2 x 10 = 20\n"
          ]
        }
      ]
    },
    {
      "cell_type": "markdown",
      "source": [
        "##Ejercicio 17\n",
        "\n",
        "Escribe un programa que calcule la suma de números naturales hasta n.\n"
      ],
      "metadata": {
        "id": "5RZFOnsgyq_g"
      }
    },
    {
      "cell_type": "code",
      "source": [
        "def suma_naturales(n):\n",
        "    numeros = [i for i in range(1, n + 1)]\n",
        "    return sum(numeros)\n",
        "\n",
        "n = int(input(\"Introduce un número natural: \"))\n",
        "\n",
        "print(\"El resultado es\", suma_naturales(n))\n"
      ],
      "metadata": {
        "colab": {
          "base_uri": "https://localhost:8080/"
        },
        "id": "WGoQYxEE0ID2",
        "outputId": "8a50c664-061c-400d-bc54-2178892671c3"
      },
      "execution_count": 5,
      "outputs": [
        {
          "output_type": "stream",
          "name": "stdout",
          "text": [
            "Introduce un número natural: 2\n",
            "El resultado es 3\n"
          ]
        }
      ]
    },
    {
      "cell_type": "markdown",
      "source": [
        "##Ejercicio 18\n",
        "Desarrolla un programa que calcule el factorial de un número. Recuerda que el factorial de 0 es 1 y no existen factoriales negativos."
      ],
      "metadata": {
        "id": "V8o_A_nm1cqK"
      }
    },
    {
      "cell_type": "code",
      "source": [
        "def calcular_factorial(numero):\n",
        "    if numero <= 0:\n",
        "        return 1 if numero == 0 else \"No existen factoriales negativos.\"\n",
        "\n",
        "    factorial = 1\n",
        "    for i in range(1, numero + 1):\n",
        "        factorial *= i\n",
        "\n",
        "    return factorial\n",
        "\n",
        "num = int(input(\"Introduce un número: \"))\n",
        "resultado = calcular_factorial(num)\n",
        "\n",
        "lista_factoriales = []\n",
        "factorial_acumulado = 1\n",
        "for i in range(num + 1):\n",
        "    if i > 0:\n",
        "        factorial_acumulado *= i\n",
        "    lista_factoriales.append(factorial_acumulado)\n",
        "\n",
        "print(f\"El factorial de {num} es: {resultado}\")\n",
        "print(f\"Lista de factoriales hasta {num}: {lista_factoriales}\")\n"
      ],
      "metadata": {
        "colab": {
          "base_uri": "https://localhost:8080/"
        },
        "id": "vu3LYrGj2B4l",
        "outputId": "964be8f3-84d4-4384-a59d-37760bbaaedd"
      },
      "execution_count": 9,
      "outputs": [
        {
          "output_type": "stream",
          "name": "stdout",
          "text": [
            "Introduce un número: 3\n",
            "El factorial de 3 es: 6\n",
            "Lista de factoriales hasta 3: [1, 1, 2, 6]\n"
          ]
        }
      ]
    },
    {
      "cell_type": "markdown",
      "source": [
        "##Ejercicio 19\n",
        "Crea un programa que muestre los primeros n números de la serie Fibonacci."
      ],
      "metadata": {
        "id": "7fjLIVJt2mfq"
      }
    },
    {
      "cell_type": "code",
      "source": [
        "def fibonacci(n):\n",
        "    if n <= 0:\n",
        "        return \"El número debe ser mayor que 0.\"\n",
        "\n",
        "    serie_fibonacci = [0, 1]\n",
        "\n",
        "    for i in range(2, n):\n",
        "        siguiente = serie_fibonacci[-1] + serie_fibonacci[-2]\n",
        "        serie_fibonacci.append(siguiente)\n",
        "\n",
        "    return serie_fibonacci[:n]\n",
        "\n",
        "num = int(input(\"Introduce un número: \"))\n",
        "resultado = fibonacci(num)\n",
        "\n",
        "print(f\"Los primeros {num} números de la serie Fibonacci son: {resultado}\")\n"
      ],
      "metadata": {
        "colab": {
          "base_uri": "https://localhost:8080/"
        },
        "id": "iXzKMkvZ2rPa",
        "outputId": "58bff8e9-bc96-455f-981b-f0d10362c272"
      },
      "execution_count": 12,
      "outputs": [
        {
          "output_type": "stream",
          "name": "stdout",
          "text": [
            "Introduce un número: 2\n",
            "Los primeros 2 números de la serie Fibonacci son: [0, 1]\n"
          ]
        }
      ]
    },
    {
      "cell_type": "markdown",
      "source": [
        "##Ejercicio 20\n",
        "\n",
        "Escribe un programa que adivine entre un conjunto de diez colores definidos por el usuario, con un máximo de 10 intentos."
      ],
      "metadata": {
        "id": "il3GiXlu3FMC"
      }
    },
    {
      "cell_type": "code",
      "source": [
        "import random\n",
        "\n",
        "def adivinar_color(colores):\n",
        "    color_secreto = random.choice(colores)\n",
        "\n",
        "    print(\"Adivina el color secreto. Tienes 10 intentos.\")\n",
        "\n",
        "    for intento in range(1, 11):\n",
        "        eleccion = input(f\"Intento {intento}/10 - Ingresa un color: \").strip().lower()\n",
        "\n",
        "        if eleccion == color_secreto:\n",
        "            return f\"¡Correcto! El color era '{color_secreto}'. Lo adivinaste en {intento} intentos.\"\n",
        "\n",
        "        print(\"Incorrecto. Intenta de nuevo.\")\n",
        "\n",
        "    return f\"Lo siento, no adivinaste el color. Era '{color_secreto}'.\"\n",
        "\n",
        "colores = [input(f\"Ingresa el color {i + 1}/10: \").strip().lower() for i in range(10)]\n",
        "resultado = adivinar_color(colores)\n",
        "\n",
        "print(resultado)"
      ],
      "metadata": {
        "id": "7iOjhIwg3TvT"
      },
      "execution_count": null,
      "outputs": []
    },
    {
      "cell_type": "markdown",
      "source": [
        "##Ejercio 21\n",
        "\n",
        "Desarrolla un programa que muestre los números pares del 1 al 100."
      ],
      "metadata": {
        "id": "CPvhZEwP3X3o"
      }
    },
    {
      "cell_type": "code",
      "source": [
        "def mostrar_pares():\n",
        "    pares = [i for i in range(1, 101) if i % 2 == 0]\n",
        "    return pares\n",
        "\n",
        "print(\"Números pares del 1 al 100:\")\n",
        "print(mostrar_pares())\n"
      ],
      "metadata": {
        "colab": {
          "base_uri": "https://localhost:8080/"
        },
        "id": "9P75CD-p3pOB",
        "outputId": "83ed295d-07f0-48a8-c916-b73274778aae"
      },
      "execution_count": 13,
      "outputs": [
        {
          "output_type": "stream",
          "name": "stdout",
          "text": [
            "Números pares del 1 al 100:\n",
            "[2, 4, 6, 8, 10, 12, 14, 16, 18, 20, 22, 24, 26, 28, 30, 32, 34, 36, 38, 40, 42, 44, 46, 48, 50, 52, 54, 56, 58, 60, 62, 64, 66, 68, 70, 72, 74, 76, 78, 80, 82, 84, 86, 88, 90, 92, 94, 96, 98, 100]\n"
          ]
        }
      ]
    },
    {
      "cell_type": "markdown",
      "source": [
        "##Ejercicio 22\n",
        "\n",
        "Crea un programa que calcule la suma de los dígitos de un número."
      ],
      "metadata": {
        "id": "MiUzDsiJ3vEe"
      }
    },
    {
      "cell_type": "code",
      "source": [
        "def suma_digitos(numero):\n",
        "    digitos = [int(d) for d in str(numero)]\n",
        "    return sum(digitos)\n",
        "\n",
        "num = int(input(\"Introduce un número: \"))\n",
        "resultado = suma_digitos(num)\n",
        "\n",
        "print(f\"La suma de los dígitos de {num} es: {resultado}\")\n"
      ],
      "metadata": {
        "id": "OcwSo4vq3x5j"
      },
      "execution_count": null,
      "outputs": []
    },
    {
      "cell_type": "markdown",
      "source": [
        "##Ejercicio 23\n",
        "Escribe un programa que determine si un número es primo."
      ],
      "metadata": {
        "id": "-n-tsdMa396D"
      }
    },
    {
      "cell_type": "code",
      "source": [
        "def es_primo(numero):\n",
        "    if numero <= 1:\n",
        "        return False\n",
        "\n",
        "    divisores = [i for i in range(2, int(numero ** 0.5) + 1)]\n",
        "\n",
        "    for i in divisores:\n",
        "        if numero % i == 0:\n",
        "            return False\n",
        "\n",
        "    return True\n",
        "\n",
        "num = int(input(\"Introduce un número: \"))\n",
        "\n",
        "if es_primo(num):\n",
        "    print(f\"{num} es un número primo.\")\n",
        "else:\n",
        "    print(f\"{num} no es un número primo.\")\n"
      ],
      "metadata": {
        "id": "JTmDEYGS4Qqh"
      },
      "execution_count": null,
      "outputs": []
    },
    {
      "cell_type": "markdown",
      "source": [
        "##Ejercicio 24\n",
        "Desarrolla un programa que muestre el patrón de un triángulo con asteriscos."
      ],
      "metadata": {
        "id": "yLUDqg4X4cKw"
      }
    },
    {
      "cell_type": "code",
      "source": [
        "def triangulo_asteriscos(n):\n",
        "    patron = [\"*\" * i for i in range(1, n + 1)]\n",
        "    return patron\n",
        "\n",
        "num = int(input(\"Introduce el tamaño del triángulo: \"))\n",
        "\n",
        "triangulo = triangulo_asteriscos(num)\n",
        "\n",
        "print(\"Patrón del triángulo:\")\n",
        "for linea in triangulo:\n",
        "    print(linea)\n"
      ],
      "metadata": {
        "id": "MZb4_YR94fVO"
      },
      "execution_count": null,
      "outputs": []
    },
    {
      "cell_type": "markdown",
      "source": [
        "##Ejercicio 25\n",
        "Crea un programa que calcule la potencia de un número sin usar el operador **.\n"
      ],
      "metadata": {
        "id": "ZHUefkqh4pzN"
      }
    },
    {
      "cell_type": "code",
      "source": [
        "def calcular_potencia(base, exponente):\n",
        "    resultado = 1\n",
        "    for _ in range(abs(exponente)):\n",
        "        resultado *= base\n",
        "\n",
        "    if exponente < 0:\n",
        "        return 1 / resultado\n",
        "\n",
        "    return resultado\n",
        "\n",
        "base = int(input(\"Introduce la base: \"))\n",
        "exponente = int(input(\"Introduce el exponente: \"))\n",
        "\n",
        "resultado = calcular_potencia(base, exponente)\n",
        "\n",
        "print(f\"{base} elevado a la {exponente} es: {resultado}\")\n"
      ],
      "metadata": {
        "colab": {
          "base_uri": "https://localhost:8080/"
        },
        "id": "BqX9aSrK4teY",
        "outputId": "17f47acc-70b6-45d4-edf8-92a060527635"
      },
      "execution_count": 14,
      "outputs": [
        {
          "output_type": "stream",
          "name": "stdout",
          "text": [
            "Introduce la base: 2\n",
            "Introduce el exponente: 2\n",
            "2 elevado a la 2 es: 4\n"
          ]
        }
      ]
    }
  ]
}