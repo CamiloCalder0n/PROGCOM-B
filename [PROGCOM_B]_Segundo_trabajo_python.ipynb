{
  "cells": [
    {
      "cell_type": "markdown",
      "metadata": {
        "id": "2K-jpxxhUfZz"
      },
      "source": [
        "#Estructura de selleccion\n",
        "\n",
        "Estructura de programacion empleada para evaluar el avalor de verdad de una condicion.\n"
      ]
    },
    {
      "cell_type": "markdown",
      "metadata": {
        "id": "sbt7y5_3WpsZ"
      },
      "source": [
        "Si-condicional\n",
        "\n",
        "```\n",
        "if(condicion):\n",
        "  entrar aqui si la condicion se cumple, si es verdadera\n",
        "else\n",
        "  entrar aqui si la condicion es falsa\n",
        "\n",
        "```\n",
        "\n"
      ]
    },
    {
      "cell_type": "markdown",
      "metadata": {
        "id": "vl2LwBU6VzLx"
      },
      "source": [
        "operador terniario\n",
        "\n",
        "```\n",
        "(accion si es cierto) if (condicion) else (accion si es falso)\n",
        "```\n",
        "\n",
        "\n",
        "\n",
        "switche / condicional simple\n",
        "\n",
        "Version 1\n",
        "\n",
        "```\n",
        "if(condicion1):\n",
        "  entrar si se cumple la condicion 1\n",
        "elif(condicion 2):\n",
        "  entrar si se cumple la condicion 2\n",
        "elif(condicion 3):\n",
        "  entrar si se cumple la condicion 3\n",
        "elif(condicion n):\n",
        "  entrar si se cumple la condicion n\n",
        "  else:\n",
        "    Entra aqui si no se cumple ninguna de las condiciones anteriores\n",
        "```\n",
        "\n"
      ]
    },
    {
      "cell_type": "markdown",
      "metadata": {
        "id": "Jz6q_LwtW8EA"
      },
      "source": [
        "Version 2\n",
        "\n",
        "\n",
        "\n",
        "```\n",
        "match (variable):\n",
        "  case (valor de variable):\n",
        "    el algoritmo entra aqui\n",
        "    break\n",
        "  case (valor2):\n",
        "    el algoritmo entra aqui\n",
        "  case (valorn):\n",
        "     el algoritmo entra aqui\n",
        "\n",
        "\n",
        "```\n",
        "\n"
      ]
    },
    {
      "cell_type": "code",
      "execution_count": 1,
      "metadata": {
        "colab": {
          "base_uri": "https://localhost:8080/"
        },
        "id": "jYdXjTxvX_1n",
        "outputId": "df5b7499-d72b-4796-9706-1c74801a0a30"
      },
      "outputs": [
        {
          "name": "stdout",
          "output_type": "stream",
          "text": [
            "Desayuna\n"
          ]
        }
      ],
      "source": [
        "#Empleado estructura condicional\n",
        "\n",
        "hora=int(input(\"Que horas son: \"))\n",
        "\n",
        "if hora >=5 and hora<=8:\n",
        "  print(\"Desayuna\")\n",
        "else:\n",
        "  if hora>=11 and hora<=13:\n",
        "    print(\"Almuerza\")\n",
        "  else:\n",
        "    if hora>=19 and hora<=23:\n",
        "      print(\"Cena\")\n",
        "    else:\n",
        "      print(\"ansioso\")"
      ]
    },
    {
      "cell_type": "code",
      "execution_count": null,
      "metadata": {
        "colab": {
          "base_uri": "https://localhost:8080/"
        },
        "id": "0bJYmPaqgDIg",
        "outputId": "b52b6883-b697-4bac-ae90-f4e41c8c1ab8"
      },
      "outputs": [
        {
          "name": "stdout",
          "output_type": "stream",
          "text": [
            "Que horas son: 24\n",
            "ansioso\n"
          ]
        }
      ],
      "source": [
        "#Empleado estructura terniaria\n",
        "\n",
        "hora=int(input(\"Que horas son: \"))\n",
        "print(\"Desayuna\") if hora >=5 and hora<=8 else print(\"Almuerza\") if hora>=11 and hora<=13 else print(\"Cena\") if hora>=19 and hora<=23 else print(\"ansioso\")\n"
      ]
    },
    {
      "cell_type": "code",
      "execution_count": null,
      "metadata": {
        "colab": {
          "base_uri": "https://localhost:8080/"
        },
        "id": "vSNwnV7hcrgL",
        "outputId": "b77f0c31-5477-4132-ecb0-4a57389ba392"
      },
      "outputs": [
        {
          "name": "stdout",
          "output_type": "stream",
          "text": [
            "Que horas son: 8\n",
            "Desayuna\n"
          ]
        }
      ],
      "source": [
        "#Empleado estructura swtich v1\n",
        "\n",
        "hora=int(input(\"Que horas son: \"))\n",
        "\n",
        "if hora >=5 and hora<=8:\n",
        "  print(\"Desayuna\")\n",
        "\n",
        "elif hora>=11 and hora<=13: print(\"Almuerza\")\n",
        "elif hora>=19 and hora<=23: print(\"Cena\")\n",
        "else: print(\"ansioso\")"
      ]
    },
    {
      "cell_type": "code",
      "execution_count": null,
      "metadata": {
        "colab": {
          "base_uri": "https://localhost:8080/"
        },
        "id": "1n4yrzXgdbsK",
        "outputId": "2c8b36c4-8663-488e-db7d-9259dadfc5c2"
      },
      "outputs": [
        {
          "name": "stdout",
          "output_type": "stream",
          "text": [
            "Que horas son: 8\n",
            "Desayuna\n"
          ]
        }
      ],
      "source": [
        "#Empleado estructura swtich v2\n",
        "\n",
        "hora=int(input(\"Que horas son: \"))\n",
        "\n",
        "match hora:\n",
        "  case 8: print(\"Desayuna\")\n",
        "  case 9: print(\"Desayuna\")\n",
        "  case 10: print(\"Desayuna\")\n",
        "  case 13: print(\"Almuerzo\")\n",
        "  case 14: print(\"Almuerzo\")\n",
        "  case 15: print(\"Almuerzo\")\n",
        "  case 19: print(\"Cena\")\n",
        "  case 20: print(\"Cena\")\n",
        "  case 21: print(\"Cena\")\n",
        "  case _: print(\"Ansioso\")\n"
      ]
    },
    {
      "cell_type": "code",
      "execution_count": null,
      "metadata": {
        "colab": {
          "base_uri": "https://localhost:8080/"
        },
        "id": "zVA-3lJSeutJ",
        "outputId": "3c7da213-9206-41cd-b93c-d7249e9c883d"
      },
      "outputs": [
        {
          "name": "stdout",
          "output_type": "stream",
          "text": [
            "Que horas son: 7\n",
            "Desayuna\n"
          ]
        }
      ],
      "source": [
        "#Empleado estructura swtich v2.1\n",
        "\n",
        "hora=int(input(\"Que horas son: \"))\n",
        "\n",
        "match hora:\n",
        "  case h if 5 <= h < 8:\n",
        "    print(\"Desayuna\")\n",
        "  case h if 11 <= h < 14:\n",
        "    print(\"Almuerza\")\n",
        "  case h if 19 <= h < 22:\n",
        "    print(\"cena\")\n",
        "  case _:\n",
        "    print(\"ansioso\")"
      ]
    },
    {
      "cell_type": "markdown",
      "metadata": {
        "id": "MTZdTwE3hqB3"
      },
      "source": [
        "#Ejercicios del 6 al 10\n",
        "\n"
      ]
    },
    {
      "cell_type": "markdown",
      "metadata": {
        "id": "EdB-jTCaiK9m"
      },
      "source": [
        "## Ejercicio 6:\n",
        "\n",
        "Desarrolla un programa que determine si un número es par o impar."
      ]
    },
    {
      "cell_type": "code",
      "execution_count": null,
      "metadata": {
        "colab": {
          "base_uri": "https://localhost:8080/"
        },
        "id": "lGXWYOSviOC-",
        "outputId": "2602935a-3878-4dc9-8175-53ccf1a1274e"
      },
      "outputs": [
        {
          "name": "stdout",
          "output_type": "stream",
          "text": [
            "Bienvenido a la calculadora de pares e impares: \n",
            "Ingrese un numero12\n",
            "El numero colocado es par\n"
          ]
        }
      ],
      "source": [
        "#Ejercicio = (if,else)\n",
        "\n",
        "print(\"Bienvenido a la calculadora de pares e impares: \")\n",
        "\n",
        "numero = int(input(\"Ingrese un numero: \"))\n",
        "\n",
        "if numero % 2 == 0:\n",
        "  print(\"El numero colocado es par\")\n",
        "else:\n",
        "  print(\"El numero colocado es impar\")\n"
      ]
    },
    {
      "cell_type": "code",
      "execution_count": null,
      "metadata": {
        "colab": {
          "base_uri": "https://localhost:8080/"
        },
        "id": "iR77nqH2jCIm",
        "outputId": "65cae865-2993-4869-cf5b-1af207b29b57"
      },
      "outputs": [
        {
          "name": "stdout",
          "output_type": "stream",
          "text": [
            "Bienvenido a la calculadora de pares e impares: \n",
            "Ingrese un numero: 12\n",
            "El numero colocado es par\n"
          ]
        }
      ],
      "source": [
        "#Ejercicio = (terniario)\n",
        "\n",
        "print(\"Bienvenido a la calculadora de pares e impares: \")\n",
        "\n",
        "numero = int(input(\"Ingrese un numero: \"))\n",
        "print(\"El numero colocado es par\") if numero % 2 == 0 else print(\"El numero colocado es impar\")\n"
      ]
    },
    {
      "cell_type": "code",
      "execution_count": null,
      "metadata": {
        "colab": {
          "base_uri": "https://localhost:8080/"
        },
        "id": "3fKGMjiZjqJu",
        "outputId": "d0efe79c-5f58-4d2c-e9a2-6989582ba8e2"
      },
      "outputs": [
        {
          "name": "stdout",
          "output_type": "stream",
          "text": [
            "Bienvenido a la calculadora de pares e impares: \n",
            "Ingrese un numero: 1\n",
            "El numero colocado es impar\n"
          ]
        }
      ],
      "source": [
        "#Ejercicio = (if, elif)\n",
        "\n",
        "print(\"Bienvenido a la calculadora de pares e impares: \")\n",
        "\n",
        "numero = int(input(\"Ingrese un numero: \"))\n",
        "\n",
        "if numero % 2 == 0:\n",
        "  print(\"El numero colocado es par\")\n",
        "elif numero % 2 != 0:\n",
        "  print(\"El numero colocado es impar\")\n"
      ]
    },
    {
      "cell_type": "code",
      "execution_count": null,
      "metadata": {
        "colab": {
          "base_uri": "https://localhost:8080/"
        },
        "id": "xfeFW6zQJI3q",
        "outputId": "1d3e8078-272a-4077-f4ab-485b9554006d"
      },
      "outputs": [
        {
          "name": "stdout",
          "output_type": "stream",
          "text": [
            "Bienvenido a la calculadora de pares e impares: \n",
            "Ingrese un numero: 2\n",
            "El numero colocado es par\n"
          ]
        }
      ],
      "source": [
        "#Ejercicio = (match)\n",
        "\n",
        "print(\"Bienvenido a la calculadora de pares e impares: \")\n",
        "\n",
        "numero = int(input(\"Ingrese un numero: \"))\n",
        "\n",
        "match numero % 2:\n",
        "  case 0:\n",
        "    print(\"El numero colocado es par\")\n",
        "  case _:\n",
        "      print(\"El numero colocado es impar\")"
      ]
    },
    {
      "cell_type": "markdown",
      "metadata": {
        "id": "7aQ6044HKfvM"
      },
      "source": [
        "##Ejercicio 7\n",
        "\n",
        "Crea un programa que determine si un año es bisiesto (divisible por 4 y no por 100, o divisible por 400)."
      ]
    },
    {
      "cell_type": "code",
      "execution_count": null,
      "metadata": {
        "colab": {
          "base_uri": "https://localhost:8080/"
        },
        "id": "rArTZ-h7Kirr",
        "outputId": "66c052c7-e750-4dd8-e83e-53f0f2db54cb"
      },
      "outputs": [
        {
          "name": "stdout",
          "output_type": "stream",
          "text": [
            "Bienvenido a la calculadora de años bisiestos: \n",
            "Ingrese el año que desees: 2020\n",
            "El año es bisiesto\n"
          ]
        }
      ],
      "source": [
        "# Ejercicio = (if, else)\n",
        "\n",
        "print(\"Bienvenido a la calculadora de años bisiestos: \")\n",
        "\n",
        "año = int(input(\"Ingrese el año que desees: \"))\n",
        "\n",
        "# Si el año es multiplo de 4 pero no de 100 ni 400 es bisiesto\n",
        "# Si el año es multiplo de los 3 es bisiesto\n",
        "\n",
        "if año % 4 == 0 and año % 100 != 0 or año % 400 == 0:\n",
        "  print(\"El año es bisiesto\")\n",
        "else:\n",
        "  print(\"El año no es bisiesto\")"
      ]
    },
    {
      "cell_type": "code",
      "execution_count": null,
      "metadata": {
        "colab": {
          "base_uri": "https://localhost:8080/"
        },
        "id": "Bcc3tuiPncwx",
        "outputId": "8fa38531-79fd-435a-9de1-99a78632b5ad"
      },
      "outputs": [
        {
          "name": "stdout",
          "output_type": "stream",
          "text": [
            "Bienvenido a la calculadora de años bisiestos: \n",
            "Ingrese el año que desees: 2020\n",
            "El año es bisiesto\n"
          ]
        }
      ],
      "source": [
        "#Ejercicio = (terniario)\n",
        "\n",
        "print(\"Bienvenido a la calculadora de años bisiestos: \")\n",
        "\n",
        "año = int(input(\"Ingrese el año que desees: \"))\n",
        "\n",
        "print(\"El año es bisiesto\") if año % 4 == 0 and año % 100 != 0 or año % 400 == 0 else print(\"El año no es bisiesto\")\n"
      ]
    },
    {
      "cell_type": "code",
      "execution_count": null,
      "metadata": {
        "colab": {
          "base_uri": "https://localhost:8080/"
        },
        "id": "xNHYhaYPoE3K",
        "outputId": "2c8574f2-d286-4eb4-895d-042ca8ae514f"
      },
      "outputs": [
        {
          "name": "stdout",
          "output_type": "stream",
          "text": [
            "Bienvenido a la calculadora de años bisiestos: \n",
            "Ingrese el año que desees: 2020\n",
            "El año es bisiesto\n"
          ]
        }
      ],
      "source": [
        "#Ejercicio = (if,elif)\n",
        "\n",
        "print(\"Bienvenido a la calculadora de años bisiestos: \")\n",
        "\n",
        "año = int(input(\"Ingrese el año que desees: \"))\n",
        "\n",
        "if año % 400 == 0:\n",
        "    print(\"El año es bisiesto\")\n",
        "elif año % 100 == 0:\n",
        "    print(\"El año no es bisiesto\")\n",
        "elif año % 4 == 0:\n",
        "    print(\"El año es bisiesto\")\n",
        "else:\n",
        "    print(\"El año no es bisiesto\")"
      ]
    },
    {
      "cell_type": "code",
      "execution_count": 5,
      "metadata": {
        "colab": {
          "base_uri": "https://localhost:8080/"
        },
        "id": "Qpms40XxqRGp",
        "outputId": "3c3d2e13-c93f-4f70-94f6-432967cecc30"
      },
      "outputs": [
        {
          "name": "stdout",
          "output_type": "stream",
          "text": [
            "Bienvenido a la calculadora de años bisiestos: \n",
            "Ingrese el año que desees: 2020\n",
            "El año es bisiesto\n"
          ]
        }
      ],
      "source": [
        "#Ejercicio = (match)\n",
        "\n",
        "print(\"Bienvenido a la calculadora de años bisiestos: \")\n",
        "\n",
        "año = int(input(\"Ingrese el año que desees: \"))\n",
        "\n",
        "match año:\n",
        "  case año if año % 4 == 0 and año % 100 != 0 or año % 400 == 0:\n",
        "    print(\"El año es bisiesto\")\n",
        "  case _:\n",
        "    print(\"El año no es bisiesto\")"
      ]
    },
    {
      "cell_type": "markdown",
      "metadata": {
        "id": "StiwUO75r0MB"
      },
      "source": [
        "##Ejercicio 8\n",
        "\n",
        "Escribe un programa que solicite el nombre del usuario y determine si una persona pertenece a la tercera edad (70 años o más) y si se cumple la condición, imprima que se le da prioridad en la fila."
      ]
    },
    {
      "cell_type": "code",
      "execution_count": 10,
      "metadata": {
        "colab": {
          "base_uri": "https://localhost:8080/"
        },
        "id": "DwIf9R7nr4Ih",
        "outputId": "534dde4e-d15f-469c-bf7b-dfd577a69631"
      },
      "outputs": [
        {
          "name": "stdout",
          "output_type": "stream",
          "text": [
            "Bienvenido a la fila de prioridades\n",
            "Ingresa tu nombre: camilo777\n",
            "Ingresa tu edad: 78\n",
            "camilo777 tienes prioridad, porfavor pasa: \n"
          ]
        }
      ],
      "source": [
        "#Ejercicio = (if,elif)\n",
        "\n",
        "print(\"Bienvenido a la fila de prioridades\")\n",
        "\n",
        "nombre = input(\"Ingresa tu nombre: \")\n",
        "edad = int(input(\"Ingresa tu edad: \"))\n",
        "\n",
        "if edad >= 70:\n",
        "  print(f\"{nombre} tienes prioridad, porfavor pasa: \")\n",
        "else:\n",
        "  print(f\"{nombre} no tienes prioridad, porfavor espera\")\n"
      ]
    },
    {
      "cell_type": "code",
      "execution_count": 11,
      "metadata": {
        "colab": {
          "base_uri": "https://localhost:8080/"
        },
        "id": "Pjx2Z1c9tbIh",
        "outputId": "f9cc34a6-2d05-4631-c45e-ec6d069587d2"
      },
      "outputs": [
        {
          "name": "stdout",
          "output_type": "stream",
          "text": [
            "Bienvenido a la fila de prioridades\n",
            "Ingresa tu nombre: camilo\n",
            "Ingresa tu edad: 78\n",
            "camilo tienes prioridad, porfavor pasa: \n"
          ]
        }
      ],
      "source": [
        "#Ejercicio = (terniario)\n",
        "\n",
        "print(\"Bienvenido a la fila de prioridades\")\n",
        "\n",
        "nombre = input(\"Ingresa tu nombre: \")\n",
        "edad = int(input(\"Ingresa tu edad: \"))\n",
        "\n",
        "print(f\"{nombre} tienes prioridad, porfavor pasa: \") if edad >= 70 else  print(f\"{nombre} no tienes prioridad, porfavor espera\")\n"
      ]
    },
    {
      "cell_type": "code",
      "execution_count": 12,
      "metadata": {
        "colab": {
          "base_uri": "https://localhost:8080/"
        },
        "id": "1wNEYhd2tu7L",
        "outputId": "50c248fc-a5bb-47c1-d8a9-fdf3a38d6262"
      },
      "outputs": [
        {
          "name": "stdout",
          "output_type": "stream",
          "text": [
            "Bienvenido a la fila de prioridades\n",
            "Ingresa tu nombre: camilo\n",
            "Ingresa tu edad: 78\n",
            "camilo tienes prioridad, porfavor pasa: \n"
          ]
        }
      ],
      "source": [
        "#Ejercicio = (if,elif)\n",
        "\n",
        "print(\"Bienvenido a la fila de prioridades\")\n",
        "\n",
        "nombre = input(\"Ingresa tu nombre: \")\n",
        "edad = int(input(\"Ingresa tu edad: \"))\n",
        "\n",
        "if edad >= 70:\n",
        "  print(f\"{nombre} tienes prioridad, porfavor pasa: \")\n",
        "elif edad < 70:\n",
        "  print(f\"{nombre} no tienes prioridad, porfavor espera\")"
      ]
    },
    {
      "cell_type": "code",
      "execution_count": 13,
      "metadata": {
        "colab": {
          "base_uri": "https://localhost:8080/"
        },
        "id": "kE6driNiuB-J",
        "outputId": "81c3811a-a594-43c2-c32b-c50d658dd5fc"
      },
      "outputs": [
        {
          "name": "stdout",
          "output_type": "stream",
          "text": [
            "Bienvenido a la fila de prioridades\n",
            "Ingresa tu nombre: camilo\n",
            "Ingresa tu edad: 78\n",
            "camilo tienes prioridad, porfavor pasa: \n"
          ]
        }
      ],
      "source": [
        "#Ejercicio = (match)\n",
        "\n",
        "print(\"Bienvenido a la fila de prioridades\")\n",
        "\n",
        "nombre = input(\"Ingresa tu nombre: \")\n",
        "edad = int(input(\"Ingresa tu edad: \"))\n",
        "\n",
        "match edad:\n",
        "  case edad if edad >= 70:\n",
        "    print(f\"{nombre} tienes prioridad, porfavor pasa: \")\n",
        "  case _:\n",
        "    print(f\"{nombre} no tienes prioridad, porfavor espera\")"
      ]
    },
    {
      "cell_type": "markdown",
      "metadata": {
        "id": "PVOYaumtu3-J"
      },
      "source": [
        "##Ejercicio 9\n",
        "\n",
        "Desarrolla un programa que compare tres números y muestre el mayor."
      ]
    },
    {
      "cell_type": "code",
      "execution_count": 17,
      "metadata": {
        "colab": {
          "base_uri": "https://localhost:8080/"
        },
        "id": "4_tGB1ySu8F4",
        "outputId": "fde855f0-ea83-41fe-dff5-609ea9ca7fa3"
      },
      "outputs": [
        {
          "name": "stdout",
          "output_type": "stream",
          "text": [
            "Bienvenido a la calculadora de comparacion numerica\n",
            "Ingresa el primer numero: 12\n",
            "Ingresa el segundo numero: 15\n",
            "Ingresa el tercer numero: 31\n",
            "El 31, es el numero mayor\n"
          ]
        }
      ],
      "source": [
        "#Ejercicio = (if,else)\n",
        "\n",
        "print(\"Bienvenido a la calculadora de comparacion numerica\")\n",
        "\n",
        "numero1= int(input(\"Ingresa el primer numero: \"))\n",
        "numero2= int(input(\"Ingresa el segundo numero: \"))\n",
        "numero3= int(input(\"Ingresa el tercer numero: \"))\n",
        "\n",
        "if numero1 > numero2 and numero1 > numero3:\n",
        "  print(f\"El {numero1}, es el numero mayor\")\n",
        "else:\n",
        "  if numero2 > numero1 and numero2 > numero3:\n",
        "    print(f\"El {numero2}, es el numero mayor\")\n",
        "  else:\n",
        "    if numero3 > numero1 and numero3 > numero2:\n",
        "      print(f\"El {numero3}, es el numero mayor\")\n",
        "    else:\n",
        "      print(\"Los numeros son iguales\")"
      ]
    },
    {
      "cell_type": "code",
      "execution_count": 22,
      "metadata": {
        "colab": {
          "base_uri": "https://localhost:8080/"
        },
        "id": "QkHs_d__w9Wp",
        "outputId": "21330e10-8c17-46eb-c44e-f4681eeb01ec"
      },
      "outputs": [
        {
          "name": "stdout",
          "output_type": "stream",
          "text": [
            "Bienvenido a la calculadora de comparacion numerica\n",
            "Ingresa el primer numero: 12\n",
            "Ingresa el segundo numero: 11\n",
            "Ingresa el tercer numero: 10\n",
            "El 12, es el numero mayor\n"
          ]
        }
      ],
      "source": [
        "#Ejercicio = (terniario)\n",
        "\n",
        "print(\"Bienvenido a la calculadora de comparacion numerica\")\n",
        "\n",
        "numero1= int(input(\"Ingresa el primer numero: \"))\n",
        "numero2= int(input(\"Ingresa el segundo numero: \"))\n",
        "numero3= int(input(\"Ingresa el tercer numero: \"))\n",
        "\n",
        "print(f\"El {numero1}, es el numero mayor\") if numero1 > numero2 and numero1 > numero3 else print(f\"El {numero2}, es el numero mayor\") if numero2 > numero1 and numero2 > numero3 else print(f\"El {numero3}, es el numero mayor\") if numero3 > numero1 and numero3 > numero2 else print(\"Los numeros son iguales\")\n"
      ]
    },
    {
      "cell_type": "code",
      "execution_count": 23,
      "metadata": {
        "colab": {
          "base_uri": "https://localhost:8080/"
        },
        "id": "wOKibBo1yppB",
        "outputId": "0aff3bc4-fcc6-4de4-a1de-0d73ec326905"
      },
      "outputs": [
        {
          "name": "stdout",
          "output_type": "stream",
          "text": [
            "Bienvenido a la calculadora de comparacion numerica\n",
            "Ingresa el primer numero: 12\n",
            "Ingresa el segundo numero: 11\n",
            "Ingresa el tercer numero: 10\n",
            "El 12, es el numero mayor\n"
          ]
        }
      ],
      "source": [
        "#Ejercicio = (if,elif)\n",
        "\n",
        "print(\"Bienvenido a la calculadora de comparacion numerica\")\n",
        "\n",
        "numero1= int(input(\"Ingresa el primer numero: \"))\n",
        "numero2= int(input(\"Ingresa el segundo numero: \"))\n",
        "numero3= int(input(\"Ingresa el tercer numero: \"))\n",
        "\n",
        "if numero1 > numero2 and numero1 > numero3:\n",
        "  print(f\"El {numero1}, es el numero mayor\")\n",
        "elif numero2 > numero1 and numero2 > numero3:\n",
        "    print(f\"El {numero2}, es el numero mayor\")\n",
        "elif numero3 > numero1 and numero3 > numero2:\n",
        "      print(f\"El {numero3}, es el numero mayor\")\n",
        "else:\n",
        "  print(\"Los numeros son iguales\")"
      ]
    },
    {
      "cell_type": "code",
      "execution_count": 25,
      "metadata": {
        "colab": {
          "base_uri": "https://localhost:8080/"
        },
        "id": "0YM0YcNnzdIw",
        "outputId": "abb8ca62-349b-46ab-dd03-0bd45c6f8198"
      },
      "outputs": [
        {
          "name": "stdout",
          "output_type": "stream",
          "text": [
            "Bienvenido a la calculadora de comparacion numerica\n",
            "Ingresa el primer numero: 12\n",
            "Ingresa el segundo numero: 10\n",
            "Ingresa el tercer numero: 9\n",
            "El 12, es el numero mayor\n"
          ]
        }
      ],
      "source": [
        "#Ejercicio = (match)\n",
        "\n",
        "print(\"Bienvenido a la calculadora de comparacion numerica\")\n",
        "\n",
        "numero1= int(input(\"Ingresa el primer numero: \"))\n",
        "numero2= int(input(\"Ingresa el segundo numero: \"))\n",
        "numero3= int(input(\"Ingresa el tercer numero: \"))\n",
        "\n",
        "match True:\n",
        "  case _ if numero1 > numero2 and numero1 > numero3:\n",
        "     print(f\"El {numero1}, es el numero mayor\")\n",
        "  case _ if numero2 > numero1 and numero2 > numero3:\n",
        "     print(f\"El {numero2}, es el numero mayor\")\n",
        "  case _ if numero3 > numero1 and numero3 > numero2:\n",
        "      print(f\"El {numero3}, es el numero mayor\")\n",
        "  case _:\n",
        "    print(\"Los numeros son iguales\")\n",
        "\n",
        "#Dentro del ejercicio el uso de match no es exacto asi que en vez de colocar el case con numero1, numero2, numero3 lo mantenemos vacio\n",
        "#Con el True comprobamos si es vd"
      ]
    },
    {
      "cell_type": "markdown",
      "metadata": {
        "id": "DcgAxRvR1MMY"
      },
      "source": [
        "##Ejercicio 10\n",
        "\n",
        "Crea un programa que determine si un triángulo es equilátero, isósceles o escaleno según sus lados."
      ]
    },
    {
      "cell_type": "code",
      "execution_count": 33,
      "metadata": {
        "colab": {
          "base_uri": "https://localhost:8080/"
        },
        "id": "UwiQMnp61P8o",
        "outputId": "ee71c5c2-8bfb-4bb2-e068-8721f329cb69"
      },
      "outputs": [
        {
          "name": "stdout",
          "output_type": "stream",
          "text": [
            "Bienvenido a la calculadora de triangulitos \n",
            "Ingresa el primer lado: 12\n",
            "Ingresa el segundo lado: 11\n",
            "Ingresa el tercer lado: 10\n",
            "El trianguolo es escaleno\n"
          ]
        }
      ],
      "source": [
        "#Ejercicio = (if,else)\n",
        "\n",
        "print(\"Bienvenido a la calculadora de triangulitos \")\n",
        "\n",
        "lado1= int(input(\"Ingresa el primer lado: \"))\n",
        "lado2= int(input(\"Ingresa el segundo lado: \"))\n",
        "lado3= int(input(\"Ingresa el tercer lado: \"))\n",
        "\n",
        "if lado1 == lado2 == lado3:\n",
        "  print(\"El triangulo es equilatero\")\n",
        "else:\n",
        "  if lado1 == lado2 or lado1 == lado3 or lado3 == lado2:\n",
        "    print(\"El triangulo es isoceles\")\n",
        "  else:\n",
        "    print(\"El trianguolo es escaleno\")"
      ]
    },
    {
      "cell_type": "code",
      "execution_count": 34,
      "metadata": {
        "colab": {
          "base_uri": "https://localhost:8080/"
        },
        "id": "fQkgGwrK7fMR",
        "outputId": "6fefc372-99e9-4dce-f7f8-13727a3cba8a"
      },
      "outputs": [
        {
          "name": "stdout",
          "output_type": "stream",
          "text": [
            "Bienvenido a la calculadora de triangulitos \n",
            "Ingresa el primer lado: 12\n",
            "Ingresa el segundo lado: 11\n",
            "Ingresa el tercer lado: 10\n",
            "El trianguolo es escaleno\n"
          ]
        }
      ],
      "source": [
        "#Ejercicio = (terniario)\n",
        "\n",
        "print(\"Bienvenido a la calculadora de triangulitos \")\n",
        "\n",
        "lado1= int(input(\"Ingresa el primer lado: \"))\n",
        "lado2= int(input(\"Ingresa el segundo lado: \"))\n",
        "lado3= int(input(\"Ingresa el tercer lado: \"))\n",
        "\n",
        "print(\"El triangulo es equilatero\") if lado1 == lado2 == lado3 else print(\"El triangulo es isoceles\") if lado1 == lado2 or lado1 == lado3 or lado3 == lado2 else  print(\"El trianguolo es escaleno\")\n"
      ]
    },
    {
      "cell_type": "code",
      "execution_count": 35,
      "metadata": {
        "colab": {
          "base_uri": "https://localhost:8080/"
        },
        "id": "lWr1Hch77uFA",
        "outputId": "ac3f1178-cc9e-4f6a-f758-7e0f94ac8c20"
      },
      "outputs": [
        {
          "name": "stdout",
          "output_type": "stream",
          "text": [
            "Bienvenido a la calculadora de triangulitos \n",
            "Ingresa el primer lado: 12\n",
            "Ingresa el segundo lado: 11\n",
            "Ingresa el tercer lado: 10\n",
            "El trianguolo es escaleno\n"
          ]
        }
      ],
      "source": [
        "#Ejercicio = (if,elif)\n",
        "\n",
        "print(\"Bienvenido a la calculadora de triangulitos \")\n",
        "\n",
        "lado1= int(input(\"Ingresa el primer lado: \"))\n",
        "lado2= int(input(\"Ingresa el segundo lado: \"))\n",
        "lado3= int(input(\"Ingresa el tercer lado: \"))\n",
        "\n",
        "if lado1 == lado2 == lado3:\n",
        "  print(\"El triangulo es equilatero\")\n",
        "elif lado1 == lado2 or lado1 == lado3 or lado3 == lado2:\n",
        "    print(\"El triangulo es isoceles\")\n",
        "else:\n",
        "  print(\"El trianguolo es escaleno\")"
      ]
    },
    {
      "cell_type": "code",
      "execution_count": 3,
      "metadata": {
        "colab": {
          "base_uri": "https://localhost:8080/"
        },
        "id": "NsOTkoq47_ZQ",
        "outputId": "20abd1ba-dac3-4249-de22-74241f1f5278"
      },
      "outputs": [
        {
          "name": "stdout",
          "output_type": "stream",
          "text": [
            "Bienvenido a la calculadora de triangulitos \n",
            "El triangulo es equilatero\n"
          ]
        }
      ],
      "source": [
        "#Ejercicio = (match1)\n",
        "\n",
        "print(\"Bienvenido a la calculadora de triangulitos \")\n",
        "\n",
        "lado1= int(input(\"Ingresa el primer lado: \"))\n",
        "lado2= int(input(\"Ingresa el segundo lado: \"))\n",
        "lado3= int(input(\"Ingresa el tercer lado: \"))\n",
        "\n",
        "match True:\n",
        "  case _ if lado1 == lado2 == lado3:\n",
        "    print(\"El triangulo es equilatero\")\n",
        "  case _ if lado1 == lado2 or lado1 == lado3 or lado3 == lado2:\n",
        "    print(\"El triangulo es isoceles\")\n",
        "  case _:\n",
        "    print(\"El trianguolo es escaleno\")"
      ]
    }
  ],
  "metadata": {
    "colab": {
      "provenance": []
    },
    "kernelspec": {
      "display_name": "Python 3",
      "name": "python3"
    },
    "language_info": {
      "codemirror_mode": {
        "name": "ipython",
        "version": 3
      },
      "file_extension": ".py",
      "mimetype": "text/x-python",
      "name": "python",
      "nbconvert_exporter": "python",
      "pygments_lexer": "ipython3",
      "version": "3.11.9"
    }
  },
  "nbformat": 4,
  "nbformat_minor": 0
}
