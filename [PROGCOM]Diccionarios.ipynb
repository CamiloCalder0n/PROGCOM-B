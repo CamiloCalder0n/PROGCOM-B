{
  "nbformat": 4,
  "nbformat_minor": 0,
  "metadata": {
    "colab": {
      "provenance": []
    },
    "kernelspec": {
      "name": "python3",
      "display_name": "Python 3"
    },
    "language_info": {
      "name": "python"
    }
  },
  "cells": [
    {
      "cell_type": "markdown",
      "source": [
        "#Ejercicio 1\n",
        "Un diccionario que almacena n nombres de usuarios, sus alturas, pesos, IMC y descripción"
      ],
      "metadata": {
        "id": "ObB_0cGVh68D"
      }
    },
    {
      "cell_type": "code",
      "execution_count": 1,
      "metadata": {
        "colab": {
          "base_uri": "https://localhost:8080/"
        },
        "id": "p8AXiWL4hxDg",
        "outputId": "e05bff9a-8461-4303-989d-567b3542ffd3"
      },
      "outputs": [
        {
          "output_type": "stream",
          "name": "stdout",
          "text": [
            "Ingrese el número de usuarios: 2\n",
            "Usuario 1:\n",
            "Ingrese el nombre del usuario: camilo\n",
            "Ingrese la altura del usuario en metros: 1.78\n",
            "Ingrese el peso del usuario en kilogramos: 78\n",
            "Usuario 2:\n",
            "Ingrese el nombre del usuario: juan\n",
            "Ingrese la altura del usuario en metros: 1.79\n",
            "Ingrese el peso del usuario en kilogramos: 77\n",
            "Diccionario de usuarios:\n",
            "Nombre: camilo\n",
            "Altura: 1.78 m\n",
            "Peso: 78.0 kg\n",
            "IMC: 24.62\n",
            "Descripción: Normal\n",
            "Nombre: juan\n",
            "Altura: 1.79 m\n",
            "Peso: 77.0 kg\n",
            "IMC: 24.03\n",
            "Descripción: Normal\n"
          ]
        }
      ],
      "source": [
        "def calculara_imc(peso, altura):\n",
        "    return round(peso / (altura ** 2), 2)\n",
        "\n",
        "def descripcion_imc(imc):\n",
        "    if imc < 18.5:\n",
        "        return \"Bajo peso\"\n",
        "    elif imc < 25:\n",
        "        return \"Normal\"\n",
        "    elif imc < 30:\n",
        "        return \"Sobrepeso\"\n",
        "\n",
        "def agregar_usuario():\n",
        "    nombre = input(\"Ingrese el nombre del usuario: \")\n",
        "    altura = float(input(\"Ingrese la altura del usuario en metros: \"))\n",
        "    peso = float(input(\"Ingrese el peso del usuario en kilogramos: \"))\n",
        "\n",
        "    imc = calculara_imc(peso, altura)\n",
        "    descripcion = descripcion_imc(imc)\n",
        "\n",
        "    return {\n",
        "        \"nombre\": nombre,\n",
        "        \"altura\": altura,\n",
        "        \"peso\": peso,\n",
        "        \"imc\": imc,\n",
        "        \"descripcion\": descripcion\n",
        "    }\n",
        "\n",
        "def diccionario_usuarios(n):\n",
        "    usuarios = {}\n",
        "\n",
        "    for i in range(n):\n",
        "      print(f\"Usuario {i + 1}:\")\n",
        "      usuario = agregar_usuario()\n",
        "      usuarios[usuario[\"nombre\"]] = usuario\n",
        "\n",
        "    return usuarios\n",
        "\n",
        "def mostrar_usuarios(usuarios):\n",
        "  print(\"Diccionario de usuarios:\")\n",
        "  for nombre, datos in usuarios.items():\n",
        "    print(f\"Nombre: {nombre}\")\n",
        "    print(f\"Altura: {datos['altura']} m\")\n",
        "    print(f\"Peso: {datos['peso']} kg\")\n",
        "    print(f\"IMC: {datos['imc']}\")\n",
        "    print(f\"Descripción: {datos['descripcion']}\")\n",
        "\n",
        "def main():\n",
        "    n = int(input(\"Ingrese el número de usuarios: \"))\n",
        "    usuarios = diccionario_usuarios(n)\n",
        "    mostrar_usuarios(usuarios)\n",
        "\n",
        "if __name__ == \"__main__\":\n",
        "    main()"
      ]
    },
    {
      "cell_type": "markdown",
      "source": [
        "#Ejercicio 2\n",
        "Un diccionario que almacena n códigos, sus respectivas 5 notas y su promedio"
      ],
      "metadata": {
        "id": "CeVmL7Lck-G5"
      }
    },
    {
      "cell_type": "code",
      "source": [
        "print(\"Bienvenido se te preguntara tu calificacion varias veces, si quieres salir oprime 0: \")\n",
        "\n",
        "def promedio_calificaciones():\n",
        "    valores = []\n",
        "    while True:\n",
        "        try:\n",
        "            valor = int(input(\"Calificación: \"))\n",
        "            if valor == 0:\n",
        "                break\n",
        "            valores.append(valor)\n",
        "        except ValueError:\n",
        "            print(\"Inserta un número.\")\n",
        "    print(\"Promedio: \", sum(valores)/len(valores))\n",
        "\n",
        "promedio_calificaciones()"
      ],
      "metadata": {
        "colab": {
          "base_uri": "https://localhost:8080/"
        },
        "id": "JRqXFE_yljoA",
        "outputId": "16ae4676-1a76-45d6-84ae-6ea76bebee7d"
      },
      "execution_count": 4,
      "outputs": [
        {
          "output_type": "stream",
          "name": "stdout",
          "text": [
            "Bienvenido se te preguntara tu calificacion varias veces, si quieres salir oprime 0: \n",
            "Calificación: 100\n",
            "Calificación: 98\n",
            "Calificación: 88\n",
            "Calificación: 90\n",
            "Calificación: 87\n",
            "Calificación: 0\n",
            "Promedio:  92.6\n"
          ]
        }
      ]
    },
    {
      "cell_type": "markdown",
      "source": [
        "#Ejercicio 3\n",
        "\n",
        "Un diccionario que almacena n códigos de productos de una tienda, sus respectivos precios y su % de descuento"
      ],
      "metadata": {
        "id": "MB58QRtjoG4G"
      }
    },
    {
      "cell_type": "code",
      "source": [
        "productos = {}\n",
        "\n",
        "def agregar_producto(codigo, precio, descuento):\n",
        "    productos[codigo] = {'precio': precio, 'descuento': descuento}\n",
        "\n",
        "def obtener_precio_con_descuento(codigo):\n",
        "    if codigo in productos:\n",
        "        precio = productos[codigo]['precio']\n",
        "        descuento = productos[codigo]['descuento']\n",
        "        precio_con_descuento = precio - (precio * descuento / 100)\n",
        "        return precio_con_descuento\n",
        "    else:\n",
        "        return \"Producto no encontrado\"\n",
        "\n",
        "def listar_productos():\n",
        "    for codigo, info in productos.items():\n",
        "        precio = info['precio']\n",
        "        descuento = info['descuento']\n",
        "        precio_descuento = obtener_precio_con_descuento(codigo)\n",
        "        print(f\"Código: {codigo}, Precio: {precio}, Descuento: {descuento}%, Precio con descuento: {precio_descuento}\")\n",
        "\n",
        "agregar_producto('Producto1', 1000, 10)\n",
        "agregar_producto('Producto2', 2000, 15)\n",
        "agregar_producto('Producto3', 1500, 5)\n",
        "\n",
        "listar_productos()\n",
        "\n",
        "precio_descuento_p001 = obtener_precio_con_descuento('P001')\n",
        "print(f\"El precio con descuento del producto P001 es: {precio_descuento_p001}\")"
      ],
      "metadata": {
        "colab": {
          "base_uri": "https://localhost:8080/"
        },
        "id": "VbnLuG1voLEu",
        "outputId": "52ed061d-264f-421c-8044-375033db4d91"
      },
      "execution_count": 9,
      "outputs": [
        {
          "output_type": "stream",
          "name": "stdout",
          "text": [
            "Código: Producto1, Precio: 1000, Descuento: 10%, Precio con descuento: 900.0\n",
            "Código: Producto2, Precio: 2000, Descuento: 15%, Precio con descuento: 1700.0\n",
            "Código: Producto3, Precio: 1500, Descuento: 5%, Precio con descuento: 1425.0\n",
            "El precio con descuento del producto P001 es: Producto no encontrado\n"
          ]
        }
      ]
    },
    {
      "cell_type": "markdown",
      "source": [
        "#Ejercicio 15\n"
      ],
      "metadata": {
        "id": "UfADvn66rBR0"
      }
    },
    {
      "cell_type": "code",
      "source": [
        "def tipo_triangulo(a, b, c):\n",
        "\n",
        "  lados = {\"a\": a, \"b\": b, \"c\": c}\n",
        "  if not (a + b > c and a + c > b and b + c > a):\n",
        "      return {\"valido\": False, \"mensaje\": \"No se puede formar un triángulo con estos lados.\"}\n",
        "  if a == b == c:\n",
        "    tipo = \"Equilátero\"\n",
        "  elif a == b or a == c or b == c:\n",
        "    tipo = \"Isósceles\"\n",
        "  else:\n",
        "    tipo = \"Escaleno\"\n",
        "  if a**2 + b**2 == c**2 or a**2 + c**2 == b**2 or b**2 + c**2 == a**2:\n",
        "      tipo += \" y Rectángulo\"\n",
        "\n",
        "  return {\"valido\": True, \"tipo\": tipo, \"lados\": lados}\n",
        "\n",
        "lado_a = float(input(\"Introduce la longitud del lado a: \"))\n",
        "lado_b = float(input(\"Introduce la longitud del lado b: \"))\n",
        "lado_c = float(input(\"Introduce la longitud del lado c: \"))\n",
        "resultado = tipo_triangulo(lado_a, lado_b, lado_c)\n",
        "if resultado[\"valido\"]:\n",
        "  print(f\"El triángulo es {resultado['tipo']}.\")\n",
        "  print(f\"Lados: a={resultado['lados']['a']}, b={resultado['lados']['b']}, c={resultado['lados']['c']}\")\n",
        "else:\n",
        "    print(resultado[\"mensaje\"])\n"
      ],
      "metadata": {
        "id": "as48pwf_rM1j"
      },
      "execution_count": null,
      "outputs": []
    },
    {
      "cell_type": "markdown",
      "source": [
        "#Ejercicio 16"
      ],
      "metadata": {
        "id": "GoBDuBxprNo8"
      }
    },
    {
      "cell_type": "code",
      "source": [
        "def tabla_multiplicar(numero):\n",
        "  tabla = {}\n",
        "  for i in range(1, 11):\n",
        "    tabla[i] = numero * i\n",
        "  return tabla\n",
        "numero = int(input(\"Introduce un número para mostrar su tabla de multiplicar: \"))\n",
        "tabla = tabla_multiplicar(numero)\n",
        "print(f\"Tabla de multiplicar del {numero}:\")\n",
        "for i, resultado in tabla.items():\n",
        "    print(f\"{numero} x {i} = {resultado}\")"
      ],
      "metadata": {
        "id": "p3YCRzvVrPW8"
      },
      "execution_count": null,
      "outputs": []
    },
    {
      "cell_type": "markdown",
      "source": [
        "#Ejercicio 17"
      ],
      "metadata": {
        "id": "FFiV-jjfrSkc"
      }
    },
    {
      "cell_type": "code",
      "source": [
        "def suma_naturales(n):\n",
        "  suma = 0\n",
        "  numeros = {}\n",
        "  for i in range(1, n + 1):\n",
        "    suma += i\n",
        "    numeros[i] = i\n",
        "\n",
        "  return {\"suma\": suma, \"numeros\": numeros}\n",
        "\n",
        "n = int(input(\"Introduce un número entero positivo: \"))\n",
        "resultado = suma_naturales(n)\n",
        "print(f\"La suma de los números naturales hasta {n} es: {resultado['suma']}\")\n",
        "print(f\"Números utilizados en la suma: {resultado['numeros']}\")\n"
      ],
      "metadata": {
        "id": "0uq_MZP3rURU"
      },
      "execution_count": null,
      "outputs": []
    },
    {
      "cell_type": "markdown",
      "source": [
        "#Ejercicio 18"
      ],
      "metadata": {
        "id": "Wov4_oQfrbe8"
      }
    },
    {
      "cell_type": "code",
      "source": [
        "def factorial(n):\n",
        "  if n < 0:\n",
        "    return \"No existe factorial de números negativos.\"\n",
        "  elif n == 0:\n",
        "    return 1\n",
        "  else:\n",
        "    fact = 1\n",
        "\n",
        "    factoriales_calculados = {}\n",
        "\n",
        "    for i in range(1, n + 1):\n",
        "      fact *= i\n",
        "      factoriales_calculados[i] = fact\n",
        "\n",
        "    return fact\n",
        "\n",
        "numero = int(input(\"Introduce un número entero no negativo: \"))\n",
        "resultado = factorial(numero)\n",
        "print(f\"El factorial de {numero} es: {resultado}\")"
      ],
      "metadata": {
        "id": "32Mzi4uKrdU8"
      },
      "execution_count": null,
      "outputs": []
    },
    {
      "cell_type": "markdown",
      "source": [
        "#Ejercicio 19"
      ],
      "metadata": {
        "id": "CTdZhINkrgaL"
      }
    },
    {
      "cell_type": "code",
      "source": [
        "def fibonacci(n):\n",
        "  fib_sequence = {}\n",
        "  a, b = 0, 1\n",
        "  for i in range(n):\n",
        "    fib_sequence[i] = a\n",
        "    a, b = b, a + b\n",
        "  return fib_sequence\n",
        "n = int(input(\"Introduce el número de términos de la serie Fibonacci que deseas mostrar: \"))\n",
        "secuencia = fibonacci(n)\n",
        "for i in secuencia:\n",
        "  print(secuencia[i], end=\" \")"
      ],
      "metadata": {
        "id": "cWyivVTPriFU"
      },
      "execution_count": null,
      "outputs": []
    },
    {
      "cell_type": "markdown",
      "source": [
        "#Ejercicio 20"
      ],
      "metadata": {
        "id": "VcnPIMZ8rllU"
      }
    },
    {
      "cell_type": "code",
      "source": [
        "import random\n",
        "\n",
        "def adivina_color():\n",
        "    colores = {}\n",
        "    for i in range(10):\n",
        "        while True:\n",
        "            color = input(f\"Introduce el color número {i+1}: \")\n",
        "            if color not in colores and color.isalpha():\n",
        "                colores[color] = 0\n",
        "                break\n",
        "            else:\n",
        "                print(\"Color no válido o repetido. Intenta de nuevo.\")\n",
        "\n",
        "    color_secreto = random.choice(list(colores.keys()))\n",
        "    intentos = 0\n",
        "    adivinado = False\n",
        "\n",
        "    print(\"\\n¡Adivina el color secreto!\")\n",
        "\n",
        "    while intentos < 10 and not adivinado:\n",
        "        intento = input(f\"Intento {intentos + 1}: \")\n",
        "        intentos += 1\n",
        "\n",
        "        if intento in colores:\n",
        "          if intento.lower() == color_secreto.lower():\n",
        "              adivinado = True\n",
        "              print(f\"¡Correcto! El color secreto era {color_secreto}. Adivinaste en {intentos} intentos.\")\n",
        "          else:\n",
        "              print(\"Incorrecto. Intenta de nuevo.\")\n",
        "        else:\n",
        "          print(\"Ese no es un color válido.\")\n",
        "\n",
        "    if not adivinado:\n",
        "        print(f\"No adivinaste el color secreto. Era {color_secreto}.\")\n",
        "\n",
        "adivina_color()"
      ],
      "metadata": {
        "id": "Mv3r6NuprnKz"
      },
      "execution_count": null,
      "outputs": []
    },
    {
      "cell_type": "markdown",
      "source": [
        "#Ejercicio 21"
      ],
      "metadata": {
        "id": "k1_HibRbruWD"
      }
    },
    {
      "cell_type": "code",
      "source": [
        "def even_numbers():\n",
        "  even_dict = {}\n",
        "  for i in range(2, 101, 2):\n",
        "    even_dict[i] = i\n",
        "  print(\"Números pares del 1 al 100:\")\n",
        "  for key, value in even_dict.items():\n",
        "    print(value, end=\" \")\n",
        "even_numbers()"
      ],
      "metadata": {
        "id": "-YaHzPmHrwhU"
      },
      "execution_count": null,
      "outputs": []
    },
    {
      "cell_type": "markdown",
      "source": [
        "#Ejercicio 22"
      ],
      "metadata": {
        "id": "ssbIMacVrzT7"
      }
    },
    {
      "cell_type": "code",
      "source": [
        "def sum_digits(number):\n",
        "\n",
        "  if not isinstance(number, int):\n",
        "    return\n",
        "  digit_values = {}\n",
        "  number_str = str(abs(number))\n",
        "  digit_sum = 0\n",
        "  for digit in number_str:\n",
        "    digit_sum += int(digit)\n",
        "    digit_values[digit] = int(digit)\n",
        "  return digit_sum, digit_values\n",
        "number = 12345\n",
        "digit_sum, digit_values = sum_digits(number)\n",
        "\n",
        "print(f\"The sum of the digits of {number} is: {digit_sum}\")\n",
        "print(f\"Digit values: {digit_values}\")\n",
        "number = -12345\n",
        "digit_sum, digit_values = sum_digits(number)\n",
        "print(f\"The sum of the digits of {number} is: {digit_sum}\")\n",
        "print(f\"Digit values: {digit_values}\")\n",
        "number = 12.5\n",
        "result = sum_digits(number)\n",
        "print(f\"Result: {result}\")"
      ],
      "metadata": {
        "id": "sOFoIts2r08T"
      },
      "execution_count": null,
      "outputs": []
    },
    {
      "cell_type": "markdown",
      "source": [
        "#Ejercicio 23"
      ],
      "metadata": {
        "id": "kz0QiFaJr3Gz"
      }
    },
    {
      "cell_type": "code",
      "source": [
        "def es_primo(numero):\n",
        "  primos_encontrados = {}\n",
        "  if numero <= 1:\n",
        "    return {\"es_primo\": False, \"primos_encontrados\": primos_encontrados}\n",
        "  for i in range(2, int(numero**0.5) + 1):\n",
        "    if numero % i == 0:\n",
        "      return {\"es_primo\": False, \"primos_encontrados\": primos_encontrados}\n",
        "    else:\n",
        "      if i not in primos_encontrados:\n",
        "          primos_encontrados[i] = i\n",
        "  primos_encontrados[numero] = numero\n",
        "  return {\"es_primo\": True, \"primos_encontrados\": primos_encontrados}\n",
        "\n",
        "numero = int(input(\"Introduce un número entero positivo: \"))\n",
        "resultado = es_primo(numero)\n",
        "\n",
        "if resultado[\"es_primo\"]:\n",
        "    print(f\"{numero} es un número primo.\")\n",
        "    print(\"Números primos encontrados:\", resultado[\"primos_encontrados\"])\n",
        "else:\n",
        "    print(f\"{numero} no es un número primo.\")\n",
        "    print(\"Números primos encontrados:\", resultado[\"primos_encontrados\"])"
      ],
      "metadata": {
        "id": "jK1nsfk-r5ej"
      },
      "execution_count": null,
      "outputs": []
    },
    {
      "cell_type": "markdown",
      "source": [
        "#Ejercicio 24"
      ],
      "metadata": {
        "id": "cE8SYNrWr76z"
      }
    },
    {
      "cell_type": "code",
      "source": [
        "def triangle_pattern(rows):\n",
        "    for i in range(1, rows + 1):\n",
        "        spaces = \" \" * (rows - i)\n",
        "        stars = \"*\" * (2 * i - 1)\n",
        "        print(spaces + stars)\n",
        "\n",
        "rows = int(input(\"Enter the number of rows for the triangle: \"))\n",
        "triangle_pattern(rows)"
      ],
      "metadata": {
        "id": "A45oXBZsr9Ib"
      },
      "execution_count": null,
      "outputs": []
    },
    {
      "cell_type": "markdown",
      "source": [
        "#Ejercicio 25"
      ],
      "metadata": {
        "id": "g7EPw4VwsPYT"
      }
    },
    {
      "cell_type": "code",
      "source": [
        "def potencia(base, exponente):\n",
        "  if exponente == 0:\n",
        "    return 1\n",
        "  elif exponente < 0:\n",
        "    return 1 / potencia(base, -exponente)\n",
        "  else:\n",
        "    resultado = 1\n",
        "    for _ in range(exponente):\n",
        "      resultado *= base\n",
        "    return resultado\n",
        "\n",
        "base = float(input(\"Introduce la base: \"))\n",
        "exponente = int(input(\"Introduce el exponente: \"))\n",
        "resultado = potencia(base, exponente)\n",
        "print(f\"{base} elevado a {exponente} es igual a {resultado}\")"
      ],
      "metadata": {
        "id": "m7O8-sFBsRTz"
      },
      "execution_count": null,
      "outputs": []
    }
  ]
}