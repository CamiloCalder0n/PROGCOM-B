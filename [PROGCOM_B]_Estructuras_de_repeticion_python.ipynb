{
  "nbformat": 4,
  "nbformat_minor": 0,
  "metadata": {
    "colab": {
      "provenance": []
    },
    "kernelspec": {
      "name": "python3",
      "display_name": "Python 3"
    },
    "language_info": {
      "name": "python"
    }
  },
  "cells": [
    {
      "cell_type": "markdown",
      "source": [
        "##Estructura de repeticion para-for\n",
        "\n",
        "Se emplea cuando se conoce **cuantas veces** se repite una accion\n",
        "\n",
        "Forma canonica\n",
        "\n",
        "```\n",
        "for(variable) in range (valor inicial, valor final +1, pasos):\n",
        "  operacion a repetir\n",
        "```\n",
        "\n",
        "Forma practica\n",
        "\n",
        "```\n",
        "for(variable) in range (cantidad de veces a repetir):\n",
        "  operacion a repetir\n",
        "```\n",
        "Para recorrer arreglos\n",
        "Itera tantas veces como elementos existan en el arreglo\n",
        "\n",
        "```\n",
        "for (variable) in liata:\n",
        "  Se repite operacion\n",
        "```\n",
        "\n",
        "\n"
      ],
      "metadata": {
        "id": "AbIgtHBNFpa3"
      }
    },
    {
      "cell_type": "code",
      "source": [
        "#Imprimir la tabla de multiplicar de un numero designado por el user\n",
        "\n",
        "numero = int(input(\"Ingrese un numero\"))\n",
        "for i in range(1,11,1):\n",
        "  print(f\"{numero} x {i} = {numero*i}\")"
      ],
      "metadata": {
        "colab": {
          "base_uri": "https://localhost:8080/"
        },
        "id": "bVo3-j3EH06_",
        "outputId": "9a9e7dd4-b762-41d0-f05c-a787a35584e9"
      },
      "execution_count": null,
      "outputs": [
        {
          "output_type": "stream",
          "name": "stdout",
          "text": [
            "Ingrese un numero2\n",
            "2 x 1 = 2\n",
            "2 x 2 = 4\n",
            "2 x 3 = 6\n",
            "2 x 4 = 8\n",
            "2 x 5 = 10\n",
            "2 x 6 = 12\n",
            "2 x 7 = 14\n",
            "2 x 8 = 16\n",
            "2 x 9 = 18\n",
            "2 x 10 = 20\n"
          ]
        }
      ]
    },
    {
      "cell_type": "code",
      "source": [
        "numero = int(input(\"Ingrese un numero\"))\n",
        "for i in range(10):\n",
        "  print(f\"{numero} x {i} = {numero*i}\")"
      ],
      "metadata": {
        "colab": {
          "base_uri": "https://localhost:8080/"
        },
        "id": "oHz-UgKuJqau",
        "outputId": "cee04c1f-5ab8-4637-90d2-a2905e3e8771"
      },
      "execution_count": null,
      "outputs": [
        {
          "output_type": "stream",
          "name": "stdout",
          "text": [
            "2 x 0 = 0\n",
            "2 x 1 = 2\n",
            "2 x 2 = 4\n",
            "2 x 3 = 6\n",
            "2 x 4 = 8\n",
            "2 x 5 = 10\n",
            "2 x 6 = 12\n",
            "2 x 7 = 14\n",
            "2 x 8 = 16\n",
            "2 x 9 = 18\n"
          ]
        }
      ]
    },
    {
      "cell_type": "code",
      "source": [
        "numero = int(input(\"Ingrese un numero\"))\n",
        "lista = [1,2,3,4,5,6,7,8,9,10]\n",
        "for i in lista:\n",
        "  print(f\"{numero} x {i} = {numero*i}\")"
      ],
      "metadata": {
        "colab": {
          "base_uri": "https://localhost:8080/"
        },
        "id": "wJ96w8fzKCe_",
        "outputId": "1fcc54fb-9f33-43d4-efaa-11ff38108e7f"
      },
      "execution_count": null,
      "outputs": [
        {
          "output_type": "stream",
          "name": "stdout",
          "text": [
            "Ingrese un numero12\n",
            "12 x 1 = 12\n",
            "12 x 2 = 24\n",
            "12 x 3 = 36\n",
            "12 x 4 = 48\n",
            "12 x 5 = 60\n",
            "12 x 6 = 72\n",
            "12 x 7 = 84\n",
            "12 x 8 = 96\n",
            "12 x 9 = 108\n",
            "12 x 10 = 120\n"
          ]
        }
      ]
    },
    {
      "cell_type": "code",
      "source": [
        "numero = int(input(\"Ingrese un numero\"))\n",
        "\n",
        "for i in range(2,11,2):\n",
        "  print(f\"{numero} x {i} = {numero*i}\")"
      ],
      "metadata": {
        "colab": {
          "base_uri": "https://localhost:8080/"
        },
        "id": "AahjIujuLkXX",
        "outputId": "2e629c45-13be-4aa1-872b-8eeffa39f487"
      },
      "execution_count": null,
      "outputs": [
        {
          "output_type": "stream",
          "name": "stdout",
          "text": [
            "Ingrese un numero2\n",
            "2 x 2 = 4\n",
            "2 x 4 = 8\n",
            "2 x 6 = 12\n",
            "2 x 8 = 16\n",
            "2 x 10 = 20\n"
          ]
        }
      ]
    },
    {
      "cell_type": "code",
      "source": [
        "#Programa para adivinar el color\n",
        "!pip install emoji\n",
        "import emoji\n",
        "import random\n",
        "\n",
        "color = [\"rojo\", \"azul\", \"verde\", \"amarillo\", \"naranja\"]\n",
        "\n",
        "color_cpu =color[random.randint(0,4)]\n",
        "\n",
        "print(emoji.emojize(f\"tu color es: {color_cpu} :thumbs_up: \"))"
      ],
      "metadata": {
        "colab": {
          "base_uri": "https://localhost:8080/"
        },
        "id": "UTLHDbF3NzYu",
        "outputId": "496c1477-f857-41ff-e125-aad00dbbac1f"
      },
      "execution_count": null,
      "outputs": [
        {
          "output_type": "stream",
          "name": "stdout",
          "text": [
            "Requirement already satisfied: emoji in /usr/local/lib/python3.11/dist-packages (2.14.1)\n",
            "tu color es: azul 👍 \n"
          ]
        }
      ]
    },
    {
      "cell_type": "code",
      "source": [
        "random.randint(0,4)"
      ],
      "metadata": {
        "colab": {
          "base_uri": "https://localhost:8080/"
        },
        "id": "mga2lDWaO4tn",
        "outputId": "cfcd7579-ec9d-46ac-d33c-3df836fed91d"
      },
      "execution_count": null,
      "outputs": [
        {
          "output_type": "execute_result",
          "data": {
            "text/plain": [
              "1"
            ]
          },
          "metadata": {},
          "execution_count": 22
        }
      ]
    },
    {
      "cell_type": "code",
      "source": [
        "!pip install emoji\n",
        "import emoji\n",
        "import random\n",
        "\n",
        "\n",
        "color = [\"rojo\", \"azul\", \"verde\", \"amarillo\", \"naranja\"]\n",
        "color_cpu =color[random.randint(0,4)]\n",
        "\n",
        "for variable in range(5):\n",
        "  color_user = input(\"Que color estoy pensando: \")\n",
        "  if color_cpu == color_user:\n",
        "    print(emoji.emojize(\"Felicidades :slightly_smiling_face: \"))\n",
        "    break\n",
        "  else:\n",
        "    print(emoji.emojize(\"No, ese no era el color :slightly_frowning_face: \"))"
      ],
      "metadata": {
        "id": "bwZOGxoXPAGm",
        "colab": {
          "base_uri": "https://localhost:8080/"
        },
        "outputId": "1e7a51c7-5a3f-4da5-8e1b-313bda2a25ef"
      },
      "execution_count": null,
      "outputs": [
        {
          "output_type": "stream",
          "name": "stdout",
          "text": [
            "Collecting emoji\n",
            "  Downloading emoji-2.14.1-py3-none-any.whl.metadata (5.7 kB)\n",
            "Downloading emoji-2.14.1-py3-none-any.whl (590 kB)\n",
            "\u001b[2K   \u001b[90m━━━━━━━━━━━━━━━━━━━━━━━━━━━━━━━━━━━━━━━━\u001b[0m \u001b[32m590.6/590.6 kB\u001b[0m \u001b[31m6.2 MB/s\u001b[0m eta \u001b[36m0:00:00\u001b[0m\n",
            "\u001b[?25hInstalling collected packages: emoji\n",
            "Successfully installed emoji-2.14.1\n",
            "Que color estoy pensando: amarillo\n",
            "Felicidades 🙂 \n"
          ]
        }
      ]
    },
    {
      "cell_type": "markdown",
      "source": [
        "##Ejercicio 11\n",
        "\n",
        "Escribe un programa que calcule el índice de masa corporal (IMC) y determine la categoría (bajo peso, normal, sobrepeso, obesidad). Al final, el programa debe imprimir: el nombre del usuario, su categoría y una breve descripción de lo que debe hacer de acuerdo a su categoría."
      ],
      "metadata": {
        "id": "QJysL4hJEBJv"
      }
    },
    {
      "cell_type": "code",
      "source": [
        "#for\n",
        "\n",
        "registros = []\n",
        "\n",
        "num_personas = int(input(\"¿Cuántas personas desea evaluar? \"))\n",
        "\n",
        "for i in range(num_personas):\n",
        "    print(f\"\\nPersona {i+1}:\")\n",
        "    nombre = input(\"Nombre: \")\n",
        "    peso = float(input(\"Peso en kg: \"))\n",
        "    altura = float(input(\"Altura en metros: \"))\n",
        "\n",
        "    imc = peso / (altura ** 2)\n",
        "\n",
        "    if imc < 18.5:\n",
        "        categoria = \"bajo peso\"\n",
        "        recomendacion = \"Consulte con un nutricionista para desarrollar un plan de alimentación.\"\n",
        "    elif imc < 25:\n",
        "        categoria = \"peso normal\"\n",
        "        recomendacion = \"¡Excelente! Mantenga sus hábitos saludables actuales.\"\n",
        "    elif imc < 30:\n",
        "        categoria = \"sobrepeso\"\n",
        "        recomendacion = \"Considere aumentar su actividad física y ajustar su dieta.\"\n",
        "    else:\n",
        "        categoria = \"obesidad\"\n",
        "        recomendacion = \"Es importante consultar con un profesional de la salud.\"\n",
        "\n",
        "    persona = {\n",
        "        \"nombre\": nombre,\n",
        "        \"peso\": peso,\n",
        "        \"altura\": altura,\n",
        "        \"imc\": imc,\n",
        "        \"categoria\": categoria,\n",
        "        \"recomendacion\": recomendacion\n",
        "    }\n",
        "\n",
        "    registros.append(persona)\n",
        "\n",
        "print(\"\\n=== Resultados del IMC ===\")\n",
        "for i, persona in enumerate(registros, 1):\n",
        "    print(f\"\\nResultados para persona {i}:\")\n",
        "    print(f\"Nombre: {persona['nombre']}\")\n",
        "    print(f\"IMC: {persona['imc']:.1f}\")\n",
        "    print(f\"Categoría: {persona['categoria']}\")\n",
        "    print(f\"Recomendación: {persona['recomendacion']}\")\n",
        "\n",
        "categorias_count = {}\n",
        "for persona in registros:\n",
        "    categoria = persona['categoria']\n",
        "    categorias_count[categoria] = categorias_count.get(categoria, 0) + 1\n",
        "\n",
        "print(\"\\n=== Estadísticas ===\")\n",
        "for categoria, cantidad in categorias_count.items():\n",
        "    porcentaje = (cantidad / num_personas) * 100\n",
        "    print(f\"{categoria}: {cantidad} personas ({porcentaje:.1f}%)\")\n",
        "\n"
      ],
      "metadata": {
        "id": "bOjvYR3vFp0Q"
      },
      "execution_count": null,
      "outputs": []
    },
    {
      "cell_type": "code",
      "source": [
        "#While\n",
        "\n",
        "registros = []\n",
        "\n",
        "num_personas = int(input(\"¿Cuántas personas desea evaluar? \"))\n",
        "\n",
        "contador = 0\n",
        "while contador < num_personas:\n",
        "    print(f\"\\nPersona {contador + 1}:\")\n",
        "    nombre = input(\"Nombre: \")\n",
        "    peso = float(input(\"Peso en kg: \"))\n",
        "    altura = float(input(\"Altura en metros: \"))\n",
        "\n",
        "    imc = peso / (altura ** 2)\n",
        "\n",
        "    if imc < 18.5:\n",
        "        categoria = \"bajo peso\"\n",
        "        recomendacion = \"Consulte con un nutricionista para desarrollar un plan de alimentación.\"\n",
        "    elif imc < 25:\n",
        "        categoria = \"peso normal\"\n",
        "        recomendacion = \"¡Excelente! Mantenga sus hábitos saludables actuales.\"\n",
        "    elif imc < 30:\n",
        "        categoria = \"sobrepeso\"\n",
        "        recomendacion = \"Considere aumentar su actividad física y ajustar su dieta.\"\n",
        "    else:\n",
        "        categoria = \"obesidad\"\n",
        "        recomendacion = \"Es importante consultar con un profesional de la salud.\"\n",
        "\n",
        "    persona = {\n",
        "        \"nombre\": nombre,\n",
        "        \"peso\": peso,\n",
        "        \"altura\": altura,\n",
        "        \"imc\": imc,\n",
        "        \"categoria\": categoria,\n",
        "        \"recomendacion\": recomendacion\n",
        "    }\n",
        "\n",
        "    registros.append(persona)\n",
        "    contador += 1\n",
        "\n",
        "print(\"\\n=== Resultados del IMC ===\")\n",
        "contador = 1\n",
        "while contador <= len(registros):\n",
        "    persona = registros[contador - 1]\n",
        "    print(f\"\\nResultados para persona {contador}:\")\n",
        "    print(f\"Nombre: {persona['nombre']}\")\n",
        "    print(f\"IMC: {persona['imc']:.1f}\")\n",
        "    print(f\"Categoría: {persona['categoria']}\")\n",
        "    print(f\"Recomendación: {persona['recomendacion']}\")\n",
        "    contador += 1\n",
        "\n",
        "categorias_count = {}\n",
        "contador = 0\n",
        "while contador < len(registros):\n",
        "    categoria = registros[contador]['categoria']\n",
        "    categorias_count[categoria] = categorias_count.get(categoria, 0) + 1\n",
        "    contador += 1\n",
        "\n",
        "print(\"\\n=== Estadísticas ===\")\n",
        "for categoria, cantidad in categorias_count.items():\n",
        "    porcentaje = (cantidad / num_personas) * 100\n",
        "    print(f\"{categoria}: {cantidad} personas ({porcentaje:.1f}%)\")\n"
      ],
      "metadata": {
        "id": "svdGK-k4lfG-"
      },
      "execution_count": null,
      "outputs": []
    },
    {
      "cell_type": "markdown",
      "source": [
        "##Ejercicio 12\n",
        "\n",
        "Desarrolla un programa que simule una calculadora simple (+, -, *, /) con dos números."
      ],
      "metadata": {
        "id": "YhnHorInnOnQ"
      }
    },
    {
      "cell_type": "code",
      "source": [
        "#for\n",
        "\n",
        "num_operaciones = int(input(\"¿Cuántas operaciones desea realizar? \"))\n",
        "\n",
        "registro_operaciones = []\n",
        "\n",
        "for i in range(num_operaciones):\n",
        "    print(f\"\\nOperación {i+1}:\")\n",
        "    print(\"\\nOperaciones disponibles:\")\n",
        "    print(\"+ : Suma\")\n",
        "    print(\"- : Resta\")\n",
        "    print(\"* : Multiplicación\")\n",
        "    print(\"/ : División\")\n",
        "\n",
        "    num1 = float(input(\"Ingrese el primer número: \"))\n",
        "    num2 = float(input(\"Ingrese el segundo número: \"))\n",
        "    operador = input(\"Ingrese el operador (+,-,*,/): \")\n",
        "\n",
        "    if operador == '+':\n",
        "        resultado = num1 + num2\n",
        "    elif operador == '-':\n",
        "        resultado = num1 - num2\n",
        "    elif operador == '*':\n",
        "        resultado = num1 * num2\n",
        "    elif operador == '/':\n",
        "        if num2 != 0:\n",
        "            resultado = num1 / num2\n",
        "        else:\n",
        "            resultado = \"Error: División por cero\"\n",
        "    else:\n",
        "        resultado = \"Operador no válido\"\n",
        "\n",
        "    operacion = {\n",
        "        \"num1\": num1,\n",
        "        \"num2\": num2,\n",
        "        \"operador\": operador,\n",
        "        \"resultado\": resultado\n",
        "    }\n",
        "    registro_operaciones.append(operacion)\n",
        "\n",
        "print(\"\\n=== Historial de Operaciones ===\")\n",
        "for i in range(len(registro_operaciones)):\n",
        "    op = registro_operaciones[i]\n",
        "    print(f\"\\nOperación {i+1}:\")\n",
        "    print(f\"{op['num1']} {op['operador']} {op['num2']} = {op['resultado']}\")"
      ],
      "metadata": {
        "id": "9Gb0P8XIn5Zp"
      },
      "execution_count": null,
      "outputs": []
    },
    {
      "cell_type": "code",
      "source": [
        "#while\n",
        "\n",
        "num_operaciones = int(input(\"¿Cuántas operaciones desea realizar? \"))\n",
        "\n",
        "registro_operaciones = []\n",
        "\n",
        "contador = 0\n",
        "while contador < num_operaciones:\n",
        "    print(f\"\\nOperación {contador + 1}:\")\n",
        "    print(\"\\nOperaciones disponibles:\")\n",
        "    print(\"+ : Suma\")\n",
        "    print(\"- : Resta\")\n",
        "    print(\"* : Multiplicación\")\n",
        "    print(\"/ : División\")\n",
        "\n",
        "    num1 = float(input(\"Ingrese el primer número: \"))\n",
        "    num2 = float(input(\"Ingrese el segundo número: \"))\n",
        "    operador = input(\"Ingrese el operador (+,-,*,/): \")\n",
        "\n",
        "    if operador == '+':\n",
        "        resultado = num1 + num2\n",
        "    elif operador == '-':\n",
        "        resultado = num1 - num2\n",
        "    elif operador == '*':\n",
        "        resultado = num1 * num2\n",
        "    elif operador == '/':\n",
        "        if num2 != 0:\n",
        "            resultado = num1 / num2\n",
        "        else:\n",
        "            resultado = \"Error: División por cero\"\n",
        "    else:\n",
        "        resultado = \"Operador no válido\"\n",
        "\n",
        "    operacion = {\n",
        "        \"num1\": num1,\n",
        "        \"num2\": num2,\n",
        "        \"operador\": operador,\n",
        "        \"resultado\": resultado\n",
        "    }\n",
        "    registro_operaciones.append(operacion)\n",
        "    contador += 1\n",
        "\n",
        "print(\"\\n=== Historial de Operaciones ===\")\n",
        "contador = 0\n",
        "while contador < len(registro_operaciones):\n",
        "    op = registro_operaciones[contador]\n",
        "    print(f\"\\nOperación {contador + 1}:\")\n",
        "    print(f\"{op['num1']} {op['operador']} {op['num2']} = {op['resultado']}\")\n",
        "    contador += 1"
      ],
      "metadata": {
        "id": "32-Ssnvdp7x4"
      },
      "execution_count": null,
      "outputs": []
    },
    {
      "cell_type": "markdown",
      "source": [
        "##Ejercicio 13\n",
        "\n",
        "Crea un programa que determine la calificación en letras (A, B, C, D, F) según una nota numérica (0-100)."
      ],
      "metadata": {
        "id": "ZvKtpnf0pXX2"
      }
    },
    {
      "cell_type": "code",
      "source": [
        "\n",
        "F = list(range(0,21))\n",
        "D = list(range(21,41))\n",
        "C = list(range(41,61))\n",
        "B = list(range(61,81))\n",
        "A = list(range(81,101))\n",
        "\n",
        "valor1 = int(input(\"Ingrese la nota: \"))\n",
        "\n",
        "while valor1 > 0:\n",
        "  if valor1 in F:\n",
        "    print(\"Sacaste una F\")\n",
        "  elif valor1 in D:\n",
        "    print(\"Sacaste una D\")\n",
        "  elif valor1 in C:\n",
        "    print(\"Sacaste una C\")\n",
        "  elif valor1 in B:\n",
        "    print(\"Sacaste una B\")\n",
        "  elif valor1 in A:\n",
        "    print(\"Sacaste una A\")\n",
        "  else:\n",
        "    print(\"tu nota es incorrecta\")\n",
        "  break\n",
        "\n",
        "\n",
        "\n",
        "\n"
      ],
      "metadata": {
        "id": "4eQAa6xepaJX",
        "colab": {
          "base_uri": "https://localhost:8080/"
        },
        "outputId": "27ea0075-5eec-4460-e06d-c3f338562b57"
      },
      "execution_count": null,
      "outputs": [
        {
          "output_type": "stream",
          "name": "stdout",
          "text": [
            "Ingrese la nota: 200\n",
            "tu nota es incorrecta\n"
          ]
        }
      ]
    },
    {
      "cell_type": "code",
      "source": [
        "notas ={\n",
        "    \"f\":list(range(0,21)),\n",
        "    \"d\": list(range(21,41)),\n",
        "    \"c\": list(range(41,61)),\n",
        "    \"b\": list(range(61,81)),\n",
        "    \"a\": list(range(81,101))\n",
        "}\n",
        "\n",
        "valor1 = int(input(\"Ingrese la nota: \"))\n",
        "\n",
        "for i in notas:\n",
        "  if valor1 in notas[\"f\"]:\n",
        "    print(\"Sacaste una F\")\n",
        "  elif valor1 in notas[\"d\"]:\n",
        "    print(\"Sacaste una D\")\n",
        "  elif valor1 in notas[\"c\"]:\n",
        "    print(\"Sacaste una C\")\n",
        "  elif valor1 in notas[\"b\"]:\n",
        "    print(\"Sacaste una B\")\n",
        "  elif valor1 in notas[\"a\"]:\n",
        "    print(\"Sacaste una A\")\n",
        "  else:\n",
        "    print(\"Tu nota es incorrecta\")\n",
        "\n",
        "  break"
      ],
      "metadata": {
        "id": "ci0jbxPdcSV4",
        "colab": {
          "base_uri": "https://localhost:8080/"
        },
        "outputId": "46cc60f5-bfb4-4e0d-fe34-4652a923ec88"
      },
      "execution_count": null,
      "outputs": [
        {
          "output_type": "stream",
          "name": "stdout",
          "text": [
            "Ingrese la nota: 100\n",
            "Sacaste una A\n"
          ]
        }
      ]
    },
    {
      "cell_type": "markdown",
      "source": [
        "## Ejercicio 14\n",
        "\n",
        "Escribe un programa que determine el día de la semana según un número (1-7)."
      ],
      "metadata": {
        "id": "iYjMvKAQvt_n"
      }
    },
    {
      "cell_type": "code",
      "source": [
        "#for\n",
        "\n",
        "num_consultas = int(input(\"¿Cuántos días desea consultar? \"))\n",
        "\n",
        "registro_consultas = []\n",
        "\n",
        "dias = {\n",
        "    1: \"Lunes\",\n",
        "    2: \"Martes\",\n",
        "    3: \"Miércoles\",\n",
        "    4: \"Jueves\",\n",
        "    5: \"Viernes\",\n",
        "    6: \"Sábado\",\n",
        "    7: \"Domingo\"\n",
        "}\n",
        "\n",
        "for i in range(num_consultas):\n",
        "    print(f\"\\nConsulta {i+1}:\")\n",
        "\n",
        "    numero = int(input(\"Ingrese un número (1-7): \"))\n",
        "    while numero < 1 or numero > 7:\n",
        "        print(\"El número debe estar entre 1 y 7\")\n",
        "        numero = int(input(\"Ingrese un número (1-7): \"))\n",
        "\n",
        "    dia = dias[numero]\n",
        "    tipo = \"Fin de semana\" if dia in [\"Sábado\", \"Domingo\"] else \"Día laboral\"\n",
        "\n",
        "    consulta = {\n",
        "        \"numero\": numero,\n",
        "        \"dia\": dia,\n",
        "        \"tipo\": tipo\n",
        "    }\n",
        "\n",
        "    registro_consultas.append(consulta)\n",
        "\n",
        "print(\"\\n=== Resultados ===\")\n",
        "for i in range(len(registro_consultas)):\n",
        "    consulta = registro_consultas[i]\n",
        "    print(f\"\\nConsulta {i+1}:\")\n",
        "    print(f\"Número: {consulta['numero']}\")\n",
        "    print(f\"Día: {consulta['dia']}\")\n",
        "    print(f\"Tipo: {consulta['tipo']}\")\n",
        "\n",
        "print(\"\\n=== Estadísticas ===\")\n",
        "dias_laborales = sum(1 for c in registro_consultas if c['tipo'] == \"Día laboral\")\n",
        "dias_finde = sum(1 for c in registro_consultas if c['tipo'] == \"Fin de semana\")\n",
        "\n",
        "print(f\"Días laborales consultados: {dias_laborales}\")\n",
        "print(f\"Días de fin de semana consultados: {dias_finde}\")\n"
      ],
      "metadata": {
        "id": "m5v5Tbmgv1Qu"
      },
      "execution_count": null,
      "outputs": []
    },
    {
      "cell_type": "code",
      "source": [
        "#while\n",
        "\n",
        "num_consultas = int(input(\"¿Cuántos días desea consultar? \"))\n",
        "\n",
        "registro_consultas = []\n",
        "\n",
        "dias = {\n",
        "    1: \"Lunes\",\n",
        "    2: \"Martes\",\n",
        "    3: \"Miércoles\",\n",
        "    4: \"Jueves\",\n",
        "    5: \"Viernes\",\n",
        "    6: \"Sábado\",\n",
        "    7: \"Domingo\"\n",
        "}\n",
        "\n",
        "contador = 0\n",
        "while contador < num_consultas:\n",
        "    print(f\"\\nConsulta {contador + 1}:\")\n",
        "\n",
        "    numero = int(input(\"Ingrese un número (1-7): \"))\n",
        "    while numero < 1 or numero > 7:\n",
        "        print(\"El número debe estar entre 1 y 7\")\n",
        "        numero = int(input(\"Ingrese un número (1-7): \"))\n",
        "\n",
        "    dia = dias[numero]\n",
        "    tipo = \"Fin de semana\" if dia in [\"Sábado\", \"Domingo\"] else \"Día laboral\"\n",
        "\n",
        "    consulta = {\n",
        "        \"numero\": numero,\n",
        "        \"dia\": dia,\n",
        "        \"tipo\": tipo\n",
        "    }\n",
        "\n",
        "    registro_consultas.append(consulta)\n",
        "    contador += 1\n",
        "\n",
        "print(\"\\n=== Resultados ===\")\n",
        "contador = 0\n",
        "while contador < len(registro_consultas):\n",
        "    consulta = registro_consultas[contador]\n",
        "    print(f\"\\nConsulta {contador + 1}:\")\n",
        "    print(f\"Número: {consulta['numero']}\")\n",
        "    print(f\"Día: {consulta['dia']}\")\n",
        "    print(f\"Tipo: {consulta['tipo']}\")\n",
        "    contador += 1\n",
        "\n",
        "print(\"\\n=== Estadísticas ===\")\n",
        "dias_laborales = sum(1 for c in registro_consultas if c['tipo'] == \"Día laboral\")\n",
        "dias_finde = sum(1 for c in registro_consultas if c['tipo'] == \"Fin de semana\")\n",
        "\n",
        "print(f\"Días laborales consultados: {dias_laborales}\")\n",
        "print(f\"Días de fin de semana consultados: {dias_finde}\")\n"
      ],
      "metadata": {
        "id": "duSTzl4Gv1lX"
      },
      "execution_count": null,
      "outputs": []
    },
    {
      "cell_type": "markdown",
      "source": [
        "##Ejercicio 15\n",
        "\n",
        "Desarrolla un programa que valide si tres números pueden formar un triángulo y de qué tipo es."
      ],
      "metadata": {
        "id": "PsByOB1wwcGm"
      }
    },
    {
      "cell_type": "code",
      "source": [
        "#for\n",
        "\n",
        "num_triangulos = int(input(\"¿Cuántos triángulos desea analizar? \"))\n",
        "\n",
        "registro_triangulos = []\n",
        "\n",
        "for i in range(num_triangulos):\n",
        "    print(f\"\\nTriángulo {i + 1}:\")\n",
        "\n",
        "    lados = []\n",
        "    for j in range(3):\n",
        "        lado = float(input(f\"Ingrese el lado {j + 1}: \"))\n",
        "        while lado <= 0:\n",
        "            print(\"El lado debe ser mayor que 0\")\n",
        "            lado = float(input(f\"Ingrese el lado {j + 1}: \"))\n",
        "        lados.append(lado)\n",
        "\n",
        "    es_valido = (lados[0] + lados[1] > lados[2]) and (lados[1] + lados[2] > lados[0]) and (lados[0] + lados[2] > lados[1])\n",
        "\n",
        "    triangulo = {\n",
        "        \"lados\": lados,\n",
        "        \"es_valido\": es_valido\n",
        "    }\n",
        "\n",
        "    if es_valido:\n",
        "        if lados[0] == lados[1] == lados[2]:\n",
        "            triangulo[\"tipo_lados\"] = \"Equilátero\"\n",
        "        elif lados[0] == lados[1] or lados[1] == lados[2] or lados[0] == lados[2]:\n",
        "            triangulo[\"tipo_lados\"] = \"Isósceles\"\n",
        "        else:\n",
        "            triangulo[\"tipo_lados\"] = \"Escaleno\"\n",
        "\n",
        "        lados_ordenados = sorted(lados, reverse=True)\n",
        "        a2, b2c2 = lados_ordenados[0]**2, lados_ordenados[1]**2 + lados_ordenados[2]**2\n",
        "\n",
        "        if abs(a2 - b2c2) < 0.01:\n",
        "            triangulo[\"tipo_angulos\"] = \"Rectángulo\"\n",
        "        elif a2 > b2c2:\n",
        "            triangulo[\"tipo_angulos\"] = \"Obtusángulo\"\n",
        "        else:\n",
        "            triangulo[\"tipo_angulos\"] = \"Acutángulo\"\n",
        "\n",
        "    registro_triangulos.append(triangulo)\n",
        "\n",
        "print(\"\\n=== Resultados ===\")\n",
        "for i in range(len(registro_triangulos)):\n",
        "    triangulo = registro_triangulos[i]\n",
        "    print(f\"\\nTriángulo {i + 1}:\")\n",
        "    print(f\"Lados: {triangulo['lados']}\")\n",
        "    print(f\"Es válido: {'Sí' if triangulo['es_valido'] else 'No'}\")\n",
        "\n",
        "    if triangulo[\"es_valido\"]:\n",
        "        print(f\"Tipo por lados: {triangulo['tipo_lados']}\")\n",
        "        print(f\"Tipo por ángulos: {triangulo['tipo_angulos']}\")\n"
      ],
      "metadata": {
        "id": "W6NYk5JsxA8_"
      },
      "execution_count": null,
      "outputs": []
    },
    {
      "cell_type": "code",
      "source": [
        "#while\n",
        "\n",
        "num_triangulos = int(input(\"¿Cuántos triángulos desea analizar? \"))\n",
        "\n",
        "registro_triangulos = []\n",
        "\n",
        "contador = 0\n",
        "while contador < num_triangulos:\n",
        "    print(f\"\\nTriángulo {contador + 1}:\")\n",
        "\n",
        "    lados = []\n",
        "    j = 0\n",
        "    while j < 3:\n",
        "        lado = float(input(f\"Ingrese el lado {j + 1}: \"))\n",
        "        while lado <= 0:\n",
        "            print(\"El lado debe ser mayor que 0\")\n",
        "            lado = float(input(f\"Ingrese el lado {j + 1}: \"))\n",
        "        lados.append(lado)\n",
        "        j += 1\n",
        "\n",
        "    es_valido = (lados[0] + lados[1] > lados[2]) and (lados[1] + lados[2] > lados[0]) and (lados[0] + lados[2] > lados[1])\n",
        "\n",
        "    triangulo = {\n",
        "        \"lados\": lados,\n",
        "        \"es_valido\": es_valido\n",
        "    }\n",
        "\n",
        "    if es_valido:\n",
        "        if lados[0] == lados[1] == lados[2]:\n",
        "            triangulo[\"tipo_lados\"] = \"Equilátero\"\n",
        "        elif lados[0] == lados[1] or lados[1] == lados[2] or lados[0] == lados[2]:\n",
        "            triangulo[\"tipo_lados\"] = \"Isósceles\"\n",
        "        else:\n",
        "            triangulo[\"tipo_lados\"] = \"Escaleno\"\n",
        "\n",
        "        lados_ordenados = sorted(lados, reverse=True)\n",
        "        a2, b2c2 = lados_ordenados[0]**2, lados_ordenados[1]**2 + lados_ordenados[2]**2\n",
        "\n",
        "        if abs(a2 - b2c2) < 0.01:\n",
        "            triangulo[\"tipo_angulos\"] = \"Rectángulo\"\n",
        "        elif a2 > b2c2:\n",
        "            triangulo[\"tipo_angulos\"] = \"Obtusángulo\"\n",
        "        else:\n",
        "            triangulo[\"tipo_angulos\"] = \"Acutángulo\"\n",
        "\n",
        "    registro_triangulos.append(triangulo)\n",
        "    contador += 1\n",
        "\n",
        "print(\"\\n=== Resultados ===\")\n",
        "contador = 0\n",
        "while contador < len(registro_triangulos):\n",
        "    triangulo = registro_triangulos[contador]\n",
        "    print(f\"\\nTriángulo {contador + 1}:\")\n",
        "    print(f\"Lados: {triangulo['lados']}\")\n",
        "    print(f\"Es válido: {'Sí' if triangulo['es_valido'] else 'No'}\")\n",
        "\n",
        "    if triangulo[\"es_valido\"]:\n",
        "        print(f\"Tipo por lados: {triangulo['tipo_lados']}\")\n",
        "        print(f\"Tipo por ángulos: {triangulo['tipo_angulos']}\")\n",
        "\n",
        "    contador += 1\n"
      ],
      "metadata": {
        "id": "-0zPtP2txBSm"
      },
      "execution_count": null,
      "outputs": []
    },
    {
      "cell_type": "markdown",
      "source": [
        "##Ejercicio 16\n",
        "\n",
        "Crea un programa que muestre la tabla de multiplicar de un número hasta el 10."
      ],
      "metadata": {
        "id": "duLT9Zwsxj1g"
      }
    },
    {
      "cell_type": "code",
      "source": [
        "#for\n",
        "\n",
        "numero = int(input(\"Ingrese un número para ver su tabla de multiplicar: \"))\n",
        "\n",
        "print(f\"\\n=== Tabla de multiplicar del {numero} ===\")\n",
        "print(\"=\" * 30)\n",
        "\n",
        "for i in range(1, 11):\n",
        "    print(f\"{numero} x {i} = {numero * i}\")\n",
        "\n",
        "print(\"=\" * 30)\n"
      ],
      "metadata": {
        "id": "WRt1nW1-xqrH"
      },
      "execution_count": null,
      "outputs": []
    },
    {
      "cell_type": "code",
      "source": [
        "#While\n",
        "\n",
        "numero = int(input(\"Ingrese un número para ver su tabla de multiplicar: \"))\n",
        "\n",
        "print(f\"\\n=== Tabla de multiplicar del {numero} ===\")\n",
        "print(\"=\" * 30)\n",
        "\n",
        "contador = 1\n",
        "while contador <= 10:\n",
        "    print(f\"{numero} x {contador} = {numero * contador}\")\n",
        "    contador += 1\n",
        "\n",
        "print(\"=\" * 30)\n"
      ],
      "metadata": {
        "id": "BFwNNLBlxrBo"
      },
      "execution_count": null,
      "outputs": []
    },
    {
      "cell_type": "markdown",
      "source": [
        "##Ejercicio 17\n",
        "\n",
        "Escribe un programa que calcule la suma de números naturales hasta n."
      ],
      "metadata": {
        "id": "HLOIR3jByBH2"
      }
    },
    {
      "cell_type": "code",
      "source": [
        "#for\n",
        "\n",
        "suma = 0\n",
        "num_naturales = int(input(\"¿Cuántos números naturales desea sumar? \"))\n",
        "\n",
        "for i in range(num_naturales):\n",
        "    numero = int(input(\"Ingrese un número natural: \"))\n",
        "    while numero < 0:\n",
        "        print(\"Por favor, ingrese un número natural válido.\")\n",
        "        numero = int(input(\"Ingrese un número natural: \"))\n",
        "    suma += numero\n",
        "\n",
        "print(f\"La suma de los números ingresados es: {suma}\")"
      ],
      "metadata": {
        "id": "oPFOa2UcyB3u"
      },
      "execution_count": null,
      "outputs": []
    },
    {
      "cell_type": "code",
      "source": [
        "#while\n",
        "\n",
        "suma = 0\n",
        "\n",
        "while True:\n",
        "    numero = int(input(\"Ingrese un número natural (o un número negativo para terminar): \"))\n",
        "    if numero < 0:\n",
        "        break\n",
        "    suma += numero\n",
        "\n",
        "print(f\"La suma de los números ingresados es: {suma}\")\n"
      ],
      "metadata": {
        "id": "tEZGHxksyBep"
      },
      "execution_count": null,
      "outputs": []
    },
    {
      "cell_type": "markdown",
      "source": [
        "##Ejercicio 18\n",
        "\n",
        "Desarrolla un programa que calcule el factorial de un número. Recuerda que el factorial de 0 es 1 y no existen factoriales negativos."
      ],
      "metadata": {
        "id": "07aMmCSEygLn"
      }
    },
    {
      "cell_type": "code",
      "source": [
        "#for\n",
        "\n",
        "for _ in range(1):\n",
        "    numero = int(input(\"Ingrese un número para calcular su factorial: \"))\n",
        "\n",
        "    for _ in range(1):\n",
        "        if numero < 0:\n",
        "            print(\"No existen factoriales de números negativos\")\n",
        "            for _ in range(1):\n",
        "                numero = int(input(\"Ingrese un número para calcular su factorial: \"))\n",
        "\n",
        "    factorial = 1\n",
        "    for i in range(1, numero + 1):\n",
        "        factorial *= i\n",
        "\n",
        "    print(f\"El factorial de {numero} es: {factorial}\")"
      ],
      "metadata": {
        "id": "HKtkVAdgyz37"
      },
      "execution_count": null,
      "outputs": []
    },
    {
      "cell_type": "code",
      "source": [
        "#While\n",
        "\n",
        "numero = int(input(\"Ingrese un número para calcular su factorial: \"))\n",
        "\n",
        "while numero < 0:\n",
        "    print(\"No existen factoriales de números negativos\")\n",
        "    numero = int(input(\"Ingrese un número para calcular su factorial: \"))\n",
        "\n",
        "factorial = 1\n",
        "contador = 1\n",
        "while contador <= numero:\n",
        "    factorial *= contador\n",
        "    contador += 1\n",
        "\n",
        "print(f\"El factorial de {numero} es: {factorial}\")\n"
      ],
      "metadata": {
        "id": "TAdGJ7Bhy0J-"
      },
      "execution_count": null,
      "outputs": []
    },
    {
      "cell_type": "markdown",
      "source": [
        "##Ejercicio 19\n",
        "\n",
        "Crea un programa que muestre los primeros n números de la serie Fibonacci"
      ],
      "metadata": {
        "id": "lULUyR_wzOo3"
      }
    },
    {
      "cell_type": "code",
      "source": [
        "#for\n",
        "\n",
        "for _ in range(1):\n",
        "    n = int(input(\"¿Cuántos números de la serie Fibonacci desea ver? \"))\n",
        "\n",
        "    for _ in range(1):\n",
        "        if n <= 0:\n",
        "            print(\"Por favor ingrese un número positivo\")\n",
        "            for _ in range(1):\n",
        "                n = int(input(\"¿Cuántos números de la serie Fibonacci desea ver? \"))\n",
        "\n",
        "    a, b = 0, 1\n",
        "    for i in range(n):\n",
        "        print(a, end=\" \")\n",
        "        a, b = b, a + b\n",
        "    print()"
      ],
      "metadata": {
        "id": "S4Xh8dl9zbtP"
      },
      "execution_count": null,
      "outputs": []
    },
    {
      "cell_type": "code",
      "source": [
        "#While\n",
        "\n",
        "n = int(input(\"¿Cuántos números de la serie Fibonacci desea ver? \"))\n",
        "\n",
        "while n <= 0:\n",
        "    print(\"Por favor ingrese un número positivo\")\n",
        "    n = int(input(\"¿Cuántos números de la serie Fibonacci desea ver? \"))\n",
        "\n",
        "a, b = 0, 1\n",
        "contador = 0\n",
        "while contador < n:\n",
        "    print(a, end=\" \")\n",
        "    a, b = b, a + b\n",
        "    contador += 1\n",
        "print()\n"
      ],
      "metadata": {
        "id": "PqSPwEx5zd7n"
      },
      "execution_count": null,
      "outputs": []
    },
    {
      "cell_type": "markdown",
      "source": [
        "##Ejercicio 20\n",
        "\n",
        "Escribe un programa que adivine entre un conjunto de diez colores definidos por el usuario, con un máximo de 10 intentos."
      ],
      "metadata": {
        "id": "EDSMiTgU0Zo3"
      }
    },
    {
      "cell_type": "code",
      "source": [
        "#for\n",
        "\n",
        "import random\n",
        "\n",
        "for _ in range(1):\n",
        "    colores = ['rojo', 'azul', 'verde', 'amarillo', 'naranja',\n",
        "               'morado', 'rosa', 'blanco', 'negro', 'gris']\n",
        "\n",
        "    color_secreto = random.choice(colores)\n",
        "    intentos = 0\n",
        "\n",
        "    print(\"\\n¡Bienvenido al juego de adivinar colores!\")\n",
        "    print(\"Estoy pensando en uno de estos colores:\")\n",
        "    print(\", \".join(colores))\n",
        "    print(\"\\nTienes 10 intentos para adivinar\")\n",
        "\n",
        "    for _ in range(10):\n",
        "        intento = input(\"\\nIngresa un color: \").lower()\n",
        "        intentos += 1\n",
        "\n",
        "        if intento not in colores:\n",
        "            print(\"Ese color no está en la lista. Intenta con uno de los colores mostrados\")\n",
        "            continue\n",
        "\n",
        "        if intento == color_secreto:\n",
        "            print(f\"\\n¡Felicitaciones! Adivinaste en {intentos} intentos\")\n",
        "            print(f\"El color era: {color_secreto}\")\n",
        "            break\n",
        "        else:\n",
        "            intentos_restantes = 10 - intentos\n",
        "            print(f\"Color incorrecto. Te quedan {intentos_restantes} intentos\")\n",
        "\n",
        "    else:\n",
        "        print(f\"\\nSe acabaron los intentos. El color era: {color_secreto}\")"
      ],
      "metadata": {
        "id": "LkRbxIuY02a1"
      },
      "execution_count": null,
      "outputs": []
    },
    {
      "cell_type": "code",
      "source": [
        "#while\n",
        "\n",
        "colores = ['rojo', 'azul', 'verde', 'amarillo', 'naranja',\n",
        "           'morado', 'rosa', 'blanco', 'negro', 'gris']\n",
        "\n",
        "color_secreto = random.choice(colores)\n",
        "intentos = 0\n",
        "\n",
        "print(\"\\n¡Bienvenido al juego de adivinar colores!\")\n",
        "print(\"Estoy pensando en uno de estos colores:\")\n",
        "print(\", \".join(colores))\n",
        "print(\"\\nTienes 10 intentos para adivinar\")\n",
        "\n",
        "while intentos < 10:\n",
        "    intento = input(\"\\nIngresa un color: \").lower()\n",
        "    intentos += 1\n",
        "\n",
        "    if intento not in colores:\n",
        "        print(\"Ese color no está en la lista. Intenta con uno de los colores mostrados\")\n",
        "        continue\n",
        "\n",
        "    if intento == color_secreto:\n",
        "        print(f\"\\n¡Felicitaciones! Adivinaste en {intentos} intentos\")\n",
        "        print(f\"El color era: {color_secreto}\")\n",
        "        break\n",
        "\n",
        "    intentos_restantes = 10 - intentos\n",
        "    print(f\"Color incorrecto. Te quedan {intentos_restantes} intentos\")\n",
        "\n",
        "if intentos == 10 and intento != color_secreto:\n",
        "    print(f\"\\nSe acabaron los intentos. El color era: {color_secreto}\")"
      ],
      "metadata": {
        "id": "-N9hIewh04xH"
      },
      "execution_count": null,
      "outputs": []
    },
    {
      "cell_type": "markdown",
      "source": [
        "##Estructuras MIENTRAS\n",
        "\n",
        "Se emplea cuando **NO** se sabe cuantas veces se repite una accion\n",
        "\n",
        "1. CI: condicion inicial. Donde se inicia.\n",
        "2. CF: condicion final. Mi condicion de verdad detiene el ciclo\n",
        "3. Modificador de la condicion inicial. manipula la CI para volverla CF\n",
        "\n",
        "Forma general del mientras\n",
        "\n",
        "```\n",
        "CI\n",
        "while c!=CF:\n",
        "  modificador de la CI\n",
        "```\n",
        "\n",
        "```\n",
        "while true:\n",
        "  modificador de CI(bandera que cambie a false)\n",
        "```\n",
        "\n"
      ],
      "metadata": {
        "id": "UFx1-Q7hcWpB"
      }
    },
    {
      "cell_type": "code",
      "source": [
        "#Table de multiplicar\n",
        "\n",
        "num=int(input(\"Ingrese un numero: \"))\n",
        "f=1\n",
        "while f<=10:\n",
        "  print(f\"{num} x {f} = {num*f}\")\n",
        "  f+=1 #contador"
      ],
      "metadata": {
        "colab": {
          "base_uri": "https://localhost:8080/"
        },
        "id": "l7kBxo6od-l3",
        "outputId": "f30724a4-8364-45f0-f488-475877a29a5b"
      },
      "execution_count": null,
      "outputs": [
        {
          "output_type": "stream",
          "name": "stdout",
          "text": [
            "Ingrese un numero: 2\n",
            "2 x 1 = 2\n",
            "2 x 2 = 4\n",
            "2 x 3 = 6\n",
            "2 x 4 = 8\n",
            "2 x 5 = 10\n",
            "2 x 6 = 12\n",
            "2 x 7 = 14\n",
            "2 x 8 = 16\n",
            "2 x 9 = 18\n",
            "2 x 10 = 20\n"
          ]
        }
      ]
    },
    {
      "cell_type": "code",
      "source": [
        "color_user = input(\"Que color estoy pensando: \")\n",
        "while color_cpu != color_user:\n",
        "    print(\"No. Ese no es el color que estoy pensando\")\n",
        "    color_user = input(\"Que color estoy pensando: \")\n",
        "print(\"Felicidades\")"
      ],
      "metadata": {
        "colab": {
          "base_uri": "https://localhost:8080/"
        },
        "id": "4Tu74iRDgLqF",
        "outputId": "4b257452-f4c0-485b-cb78-8b9e9f58a14f"
      },
      "execution_count": null,
      "outputs": [
        {
          "output_type": "stream",
          "name": "stdout",
          "text": [
            "Que color estoy pensando: amarillo\n",
            "Felicidades\n"
          ]
        }
      ]
    }
  ]
}