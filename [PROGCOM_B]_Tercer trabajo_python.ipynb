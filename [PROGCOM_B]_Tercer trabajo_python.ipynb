{
  "nbformat": 4,
  "nbformat_minor": 0,
  "metadata": {
    "colab": {
      "provenance": []
    },
    "kernelspec": {
      "name": "python3",
      "display_name": "Python 3"
    },
    "language_info": {
      "name": "python"
    }
  },
  "cells": [
    {
      "cell_type": "markdown",
      "source": [
        "##Estructura de repeticion para-for\n",
        "\n",
        "Se emplea cuando se conoce **cuantas veces** se repite una accion\n",
        "\n",
        "Forma canonica\n",
        "\n",
        "```\n",
        "for(variable) in range (valor inicial, valor final +1, pasos):\n",
        "  operacion a repetir\n",
        "```\n",
        "\n",
        "Forma practica\n",
        "\n",
        "```\n",
        "for(variable) in range (cantidad de veces a repetir):\n",
        "  operacion a repetir\n",
        "```\n",
        "Para recorrer arreglos\n",
        "Itera tantas veces como elementos existan en el arreglo\n",
        "\n",
        "```\n",
        "for (variable) in liata:\n",
        "  Se repite operacion\n",
        "```\n",
        "\n",
        "\n"
      ],
      "metadata": {
        "id": "AbIgtHBNFpa3"
      }
    },
    {
      "cell_type": "code",
      "source": [
        "#Imprimir la tabla de multiplicar de un numero designado por el user\n",
        "\n",
        "numero = int(input(\"Ingrese un numero\"))\n",
        "for i in range(1,11,1):\n",
        "  print(f\"{numero} x {i} = {numero*i}\")"
      ],
      "metadata": {
        "colab": {
          "base_uri": "https://localhost:8080/"
        },
        "id": "bVo3-j3EH06_",
        "outputId": "9a9e7dd4-b762-41d0-f05c-a787a35584e9"
      },
      "execution_count": null,
      "outputs": [
        {
          "output_type": "stream",
          "name": "stdout",
          "text": [
            "Ingrese un numero2\n",
            "2 x 1 = 2\n",
            "2 x 2 = 4\n",
            "2 x 3 = 6\n",
            "2 x 4 = 8\n",
            "2 x 5 = 10\n",
            "2 x 6 = 12\n",
            "2 x 7 = 14\n",
            "2 x 8 = 16\n",
            "2 x 9 = 18\n",
            "2 x 10 = 20\n"
          ]
        }
      ]
    },
    {
      "cell_type": "code",
      "source": [
        "numero = int(input(\"Ingrese un numero\"))\n",
        "for i in range(10):\n",
        "  print(f\"{numero} x {i} = {numero*i}\")"
      ],
      "metadata": {
        "colab": {
          "base_uri": "https://localhost:8080/"
        },
        "id": "oHz-UgKuJqau",
        "outputId": "cee04c1f-5ab8-4637-90d2-a2905e3e8771"
      },
      "execution_count": null,
      "outputs": [
        {
          "output_type": "stream",
          "name": "stdout",
          "text": [
            "2 x 0 = 0\n",
            "2 x 1 = 2\n",
            "2 x 2 = 4\n",
            "2 x 3 = 6\n",
            "2 x 4 = 8\n",
            "2 x 5 = 10\n",
            "2 x 6 = 12\n",
            "2 x 7 = 14\n",
            "2 x 8 = 16\n",
            "2 x 9 = 18\n"
          ]
        }
      ]
    },
    {
      "cell_type": "code",
      "source": [
        "numero = int(input(\"Ingrese un numero\"))\n",
        "lista = [1,2,3,4,5,6,7,8,9,10]\n",
        "for i in lista:\n",
        "  print(f\"{numero} x {i} = {numero*i}\")"
      ],
      "metadata": {
        "colab": {
          "base_uri": "https://localhost:8080/"
        },
        "id": "wJ96w8fzKCe_",
        "outputId": "1fcc54fb-9f33-43d4-efaa-11ff38108e7f"
      },
      "execution_count": null,
      "outputs": [
        {
          "output_type": "stream",
          "name": "stdout",
          "text": [
            "Ingrese un numero12\n",
            "12 x 1 = 12\n",
            "12 x 2 = 24\n",
            "12 x 3 = 36\n",
            "12 x 4 = 48\n",
            "12 x 5 = 60\n",
            "12 x 6 = 72\n",
            "12 x 7 = 84\n",
            "12 x 8 = 96\n",
            "12 x 9 = 108\n",
            "12 x 10 = 120\n"
          ]
        }
      ]
    },
    {
      "cell_type": "code",
      "source": [
        "numero = int(input(\"Ingrese un numero\"))\n",
        "\n",
        "for i in range(2,11,2):\n",
        "  print(f\"{numero} x {i} = {numero*i}\")"
      ],
      "metadata": {
        "colab": {
          "base_uri": "https://localhost:8080/"
        },
        "id": "AahjIujuLkXX",
        "outputId": "2e629c45-13be-4aa1-872b-8eeffa39f487"
      },
      "execution_count": null,
      "outputs": [
        {
          "output_type": "stream",
          "name": "stdout",
          "text": [
            "Ingrese un numero2\n",
            "2 x 2 = 4\n",
            "2 x 4 = 8\n",
            "2 x 6 = 12\n",
            "2 x 8 = 16\n",
            "2 x 10 = 20\n"
          ]
        }
      ]
    },
    {
      "cell_type": "code",
      "source": [
        "#Programa para adivinar el color\n",
        "!pip install emoji\n",
        "import emoji\n",
        "import random\n",
        "\n",
        "color = [\"rojo\", \"azul\", \"verde\", \"amarillo\", \"naranja\"]\n",
        "\n",
        "color_cpu =color[random.randint(0,4)]\n",
        "\n",
        "print(emoji.emojize(f\"tu color es: {color_cpu} :thumbs_up: \"))"
      ],
      "metadata": {
        "colab": {
          "base_uri": "https://localhost:8080/"
        },
        "id": "UTLHDbF3NzYu",
        "outputId": "496c1477-f857-41ff-e125-aad00dbbac1f"
      },
      "execution_count": null,
      "outputs": [
        {
          "output_type": "stream",
          "name": "stdout",
          "text": [
            "Requirement already satisfied: emoji in /usr/local/lib/python3.11/dist-packages (2.14.1)\n",
            "tu color es: azul 👍 \n"
          ]
        }
      ]
    },
    {
      "cell_type": "code",
      "source": [
        "random.randint(0,4)"
      ],
      "metadata": {
        "colab": {
          "base_uri": "https://localhost:8080/"
        },
        "id": "mga2lDWaO4tn",
        "outputId": "cfcd7579-ec9d-46ac-d33c-3df836fed91d"
      },
      "execution_count": null,
      "outputs": [
        {
          "output_type": "execute_result",
          "data": {
            "text/plain": [
              "1"
            ]
          },
          "metadata": {},
          "execution_count": 22
        }
      ]
    },
    {
      "cell_type": "code",
      "source": [
        "!pip install emoji\n",
        "import emoji\n",
        "import random\n",
        "\n",
        "\n",
        "color = [\"rojo\", \"azul\", \"verde\", \"amarillo\", \"naranja\"]\n",
        "color_cpu =color[random.randint(0,4)]\n",
        "\n",
        "for variable in range(5):\n",
        "  color_user = input(\"Que color estoy pensando: \")\n",
        "  if color_cpu == color_user:\n",
        "    print(emoji.emojize(\"Felicidades :slightly_smiling_face: \"))\n",
        "    break\n",
        "  else:\n",
        "    print(emoji.emojize(\"No, ese no era el color :slightly_frowning_face: \"))"
      ],
      "metadata": {
        "id": "bwZOGxoXPAGm",
        "colab": {
          "base_uri": "https://localhost:8080/"
        },
        "outputId": "1e7a51c7-5a3f-4da5-8e1b-313bda2a25ef"
      },
      "execution_count": 1,
      "outputs": [
        {
          "output_type": "stream",
          "name": "stdout",
          "text": [
            "Collecting emoji\n",
            "  Downloading emoji-2.14.1-py3-none-any.whl.metadata (5.7 kB)\n",
            "Downloading emoji-2.14.1-py3-none-any.whl (590 kB)\n",
            "\u001b[2K   \u001b[90m━━━━━━━━━━━━━━━━━━━━━━━━━━━━━━━━━━━━━━━━\u001b[0m \u001b[32m590.6/590.6 kB\u001b[0m \u001b[31m6.2 MB/s\u001b[0m eta \u001b[36m0:00:00\u001b[0m\n",
            "\u001b[?25hInstalling collected packages: emoji\n",
            "Successfully installed emoji-2.14.1\n",
            "Que color estoy pensando: amarillo\n",
            "Felicidades 🙂 \n"
          ]
        }
      ]
    },
    {
      "cell_type": "markdown",
      "source": [
        "##Ejercicio 11\n",
        "\n",
        "Escribe un programa que calcule el índice de masa corporal (IMC) y determine la categoría (bajo peso, normal, sobrepeso, obesidad). Al final, el programa debe imprimir: el nombre del usuario, su categoría y una breve descripción de lo que debe hacer de acuerdo a su categoría."
      ],
      "metadata": {
        "id": "QJysL4hJEBJv"
      }
    },
    {
      "cell_type": "code",
      "source": [
        "#For\n",
        "\n",
        "registros = []\n",
        "\n",
        "num_personas = int(input(\"¿Cuántas personas desea evaluar? \"))\n",
        "\n",
        "for i in range(num_personas):\n",
        "    print(f\"\\nPersona {i+1}:\")\n",
        "    nombre = input(\"Nombre: \")\n",
        "    peso = float(input(\"Peso en kg: \"))\n",
        "    altura = float(input(\"Altura en metros: \"))\n",
        "\n",
        "    imc = peso / (altura ** 2)\n",
        "\n",
        "    if imc < 18.5:\n",
        "        categoria = \"bajo peso\"\n",
        "    elif imc < 25:\n",
        "        categoria = \"peso normal\"\n",
        "    elif imc < 30:\n",
        "        categoria = \"sobrepeso\"\n",
        "    else:\n",
        "        categoria = \"obesidad\"\n",
        "\n",
        "    if categoria == \"bajo peso\":\n",
        "        recomendacion = \"Consulte con un nutricionista para desarrollar un plan de alimentación.\"\n",
        "    elif categoria == \"peso normal\":\n",
        "        recomendacion = \"¡Excelente! Mantenga sus hábitos saludables actuales.\"\n",
        "    elif categoria == \"sobrepeso\":\n",
        "        recomendacion = \"Considere aumentar su actividad física y ajustar su dieta.\"\n",
        "    else:\n",
        "        recomendacion = \"Es importante consultar con un profesional de la salud.\"\n",
        "\n",
        "    persona = {\n",
        "        \"nombre\": nombre,\n",
        "        \"peso\": peso,\n",
        "        \"altura\": altura,\n",
        "        \"imc\": imc,\n",
        "        \"categoria\": categoria,\n",
        "        \"recomendacion\": recomendacion\n",
        "    }\n",
        "\n",
        "    registros.append(persona)\n",
        "\n",
        "print(\"\\n=== Resultados del IMC ===\")\n",
        "for i, persona in enumerate(registros, 1):\n",
        "    print(f\"\\nResultados para persona {i}:\")\n",
        "    print(f\"Nombre: {persona['nombre']}\")\n",
        "    print(f\"IMC: {persona['imc']:.1f}\")\n",
        "    print(f\"Categoría: {persona['categoria']}\")\n",
        "    print(f\"Recomendación: {persona['recomendacion']}\")\n",
        "\n",
        "categorias_count = {}\n",
        "for persona in registros:\n",
        "    categoria = persona['categoria']\n",
        "    categorias_count[categoria] = categorias_count.get(categoria, 0) + 1\n",
        "\n",
        "print(\"\\n=== Estadísticas ===\")\n",
        "for categoria, cantidad in categorias_count.items():\n",
        "    porcentaje = (cantidad / num_personas) * 100\n",
        "    print(f\"{categoria}: {cantidad} personas ({porcentaje:.1f}%)\")\n"
      ],
      "metadata": {
        "id": "bOjvYR3vFp0Q"
      },
      "execution_count": null,
      "outputs": []
    },
    {
      "cell_type": "code",
      "source": [
        "#While\n",
        "\n",
        "registros = []\n",
        "\n",
        "num_personas = int(input(\"¿Cuántas personas desea evaluar? \"))\n",
        "contador = 0\n",
        "\n",
        "while contador < num_personas:\n",
        "    print(f\"\\nPersona {contador+1}:\")\n",
        "    nombre = input(\"Nombre: \")\n",
        "    peso = float(input(\"Peso en kg: \"))\n",
        "    altura = float(input(\"Altura en metros: \"))\n",
        "\n",
        "    imc = peso / (altura ** 2)\n",
        "\n",
        "    if imc < 18.5:\n",
        "        categoria = \"bajo peso\"\n",
        "    elif imc < 25:\n",
        "        categoria = \"peso normal\"\n",
        "    elif imc < 30:\n",
        "        categoria = \"sobrepeso\"\n",
        "    else:\n",
        "        categoria = \"obesidad\"\n",
        "\n",
        "    if categoria == \"bajo peso\":\n",
        "        recomendacion = \"Consulte con un nutricionista para desarrollar un plan de alimentación.\"\n",
        "    elif categoria == \"peso normal\":\n",
        "        recomendacion = \"¡Excelente! Mantenga sus hábitos saludables actuales.\"\n",
        "    elif categoria == \"sobrepeso\":\n",
        "        recomendacion = \"Considere aumentar su actividad física y ajustar su dieta.\"\n",
        "    else:\n",
        "        recomendacion = \"Es importante consultar con un profesional de la salud.\"\n",
        "\n",
        "    persona = {\n",
        "        \"nombre\": nombre,\n",
        "        \"peso\": peso,\n",
        "        \"altura\": altura,\n",
        "        \"imc\": imc,\n",
        "        \"categoria\": categoria,\n",
        "        \"recomendacion\": recomendacion\n",
        "    }\n",
        "\n",
        "    registros.append(persona)\n",
        "    contador += 1\n",
        "\n",
        "print(\"\\n=== Resultados del IMC ===\")\n",
        "contador = 0\n",
        "while contador < len(registros):\n",
        "    persona = registros[contador]\n",
        "    print(f\"\\nResultados para persona {contador+1}:\")\n",
        "    print(f\"Nombre: {persona['nombre']}\")\n",
        "    print(f\"IMC: {persona['imc']:.1f}\")\n",
        "    print(f\"Categoría: {persona['categoria']}\")\n",
        "    print(f\"Recomendación: {persona['recomendacion']}\")\n",
        "    contador += 1\n",
        "\n",
        "categorias_count = {}\n",
        "contador = 0\n",
        "while contador < len(registros):\n",
        "    categoria = registros[contador]['categoria']\n",
        "    categorias_count[categoria] = categorias_count.get(categoria, 0) + 1\n",
        "    contador += 1\n",
        "\n",
        "print(\"\\n=== Estadísticas ===\")\n",
        "contador = 0\n",
        "categorias_keys = list(categorias_count.keys())\n",
        "while contador < len(categorias_keys):\n",
        "    categoria = categorias_keys[contador]\n",
        "    cantidad = categorias_count[categoria]\n",
        "    porcentaje = (cantidad / num_personas) * 100\n",
        "    print(f\"{categoria}: {cantidad} personas ({porcentaje:.1f}%)\")\n",
        "    contador += 1"
      ],
      "metadata": {
        "id": "svdGK-k4lfG-"
      },
      "execution_count": null,
      "outputs": []
    },
    {
      "cell_type": "markdown",
      "source": [
        "##Ejercicio 12\n",
        "\n",
        "Desarrolla un programa que simule una calculadora simple (+, -, *, /) con dos números."
      ],
      "metadata": {
        "id": "YhnHorInnOnQ"
      }
    },
    {
      "cell_type": "code",
      "source": [
        "#for\n",
        "\n",
        "num_operaciones = int(input(\"¿Cuántas operaciones desea realizar? \"))\n",
        "\n",
        "historial = []\n",
        "\n",
        "for i in range(num_operaciones):\n",
        "    print(f\"\\nOperación {i+1}:\")\n",
        "    print(\"\\nOperaciones disponibles:\")\n",
        "    print(\"+ : Suma\")\n",
        "    print(\"- : Resta\")\n",
        "    print(\"* : Multiplicación\")\n",
        "    print(\"/ : División\")\n",
        "\n",
        "    num1 = float(input(\"Ingrese el primer número: \"))\n",
        "    num2 = float(input(\"Ingrese el segundo número: \"))\n",
        "    operador = input(\"Ingrese el operador (+,-,*,/): \")\n",
        "\n",
        "    if operador == '+':\n",
        "        resultado = num1 + num2\n",
        "    elif operador == '-':\n",
        "        resultado = num1 - num2\n",
        "    elif operador == '*':\n",
        "        resultado = num1 * num2\n",
        "    elif operador == '/':\n",
        "        if num2 != 0:\n",
        "            resultado = num1 / num2\n",
        "        else:\n",
        "            resultado = \"Error: División por cero\"\n",
        "    else:\n",
        "        resultado = \"Operador no válido\"\n",
        "\n",
        "    operacion = {\n",
        "        \"num1\": num1,\n",
        "        \"num2\": num2,\n",
        "        \"operador\": operador,\n",
        "        \"resultado\": resultado\n",
        "    }\n",
        "    historial.append(operacion)\n",
        "\n",
        "print(\"\\n=== Historial de Operaciones ===\")\n",
        "for i in range(len(historial)):\n",
        "    op = historial[i]\n",
        "    print(f\"\\nOperación {i+1}:\")\n",
        "    print(f\"{op['num1']} {op['operador']} {op['num2']} = {op['resultado']}\")\n"
      ],
      "metadata": {
        "id": "9Gb0P8XIn5Zp"
      },
      "execution_count": null,
      "outputs": []
    },
    {
      "cell_type": "code",
      "source": [
        "#while\n",
        "\n",
        "num_operaciones = int(input(\"¿Cuántas operaciones desea realizar? \"))\n",
        "\n",
        "historial = []\n",
        "\n",
        "contador = 0\n",
        "while contador < num_operaciones:\n",
        "    print(f\"\\nOperación {contador+1}:\")\n",
        "    print(\"\\nOperaciones disponibles:\")\n",
        "    print(\"+ : Suma\")\n",
        "    print(\"- : Resta\")\n",
        "    print(\"* : Multiplicación\")\n",
        "    print(\"/ : División\")\n",
        "\n",
        "    num1 = float(input(\"Ingrese el primer número: \"))\n",
        "    num2 = float(input(\"Ingrese el segundo número: \"))\n",
        "    operador = input(\"Ingrese el operador (+,-,*,/): \")\n",
        "\n",
        "    if operador == '+':\n",
        "        resultado = num1 + num2\n",
        "    elif operador == '-':\n",
        "        resultado = num1 - num2\n",
        "    elif operador == '*':\n",
        "        resultado = num1 * num2\n",
        "    elif operador == '/':\n",
        "        if num2 != 0:\n",
        "            resultado = num1 / num2\n",
        "        else:\n",
        "            resultado = \"Error: División por cero\"\n",
        "    else:\n",
        "        resultado = \"Operador no válido\"\n",
        "\n",
        "    historial.append({\n",
        "        \"num1\": num1,\n",
        "        \"num2\": num2,\n",
        "        \"operador\": operador,\n",
        "        \"resultado\": resultado\n",
        "    })\n",
        "    contador += 1\n",
        "\n",
        "contador = 0\n",
        "print(\"\\n=== Historial de Operaciones ===\")\n",
        "while contador < len(historial):\n",
        "    print(f\"\\nOperación {contador+1}:\")\n",
        "    print(f\"{historial[contador]['num1']} {historial[contador]['operador']} {historial[contador]['num2']} = {historial[contador]['resultado']}\")\n",
        "    contador += 1"
      ],
      "metadata": {
        "id": "32-Ssnvdp7x4"
      },
      "execution_count": null,
      "outputs": []
    },
    {
      "cell_type": "markdown",
      "source": [
        "##Ejercicio 13\n",
        "\n",
        "Crea un programa que determine la calificación en letras (A, B, C, D, F) según una nota numérica (0-100)."
      ],
      "metadata": {
        "id": "ZvKtpnf0pXX2"
      }
    },
    {
      "cell_type": "code",
      "source": [],
      "metadata": {
        "id": "4eQAa6xepaJX"
      },
      "execution_count": null,
      "outputs": []
    },
    {
      "cell_type": "markdown",
      "source": [
        "##Estructuras MIENTRAS\n",
        "\n",
        "Se emplea cuando **NO** se sabe cuantas veces se repite una accion\n",
        "\n",
        "1. CI: condicion inicial. Donde se inicia.\n",
        "2. CF: condicion final. Mi condicion de verdad detiene el ciclo\n",
        "3. Modificador de la condicion inicial. manipula la CI para volverla CF\n",
        "\n",
        "Forma general del mientras\n",
        "\n",
        "```\n",
        "CI\n",
        "while c!=CF:\n",
        "  modificador de la CI\n",
        "```\n",
        "\n",
        "```\n",
        "while true:\n",
        "  modificador de CI(bandera que cambie a false)\n",
        "```\n",
        "\n"
      ],
      "metadata": {
        "id": "UFx1-Q7hcWpB"
      }
    },
    {
      "cell_type": "code",
      "source": [
        "#Table de multiplicar\n",
        "\n",
        "num=int(input(\"Ingrese un numero: \"))\n",
        "f=1\n",
        "while f<=10:\n",
        "  print(f\"{num} x {f} = {num*f}\")\n",
        "  f+=1 #contador"
      ],
      "metadata": {
        "colab": {
          "base_uri": "https://localhost:8080/"
        },
        "id": "l7kBxo6od-l3",
        "outputId": "f30724a4-8364-45f0-f488-475877a29a5b"
      },
      "execution_count": 2,
      "outputs": [
        {
          "output_type": "stream",
          "name": "stdout",
          "text": [
            "Ingrese un numero: 2\n",
            "2 x 1 = 2\n",
            "2 x 2 = 4\n",
            "2 x 3 = 6\n",
            "2 x 4 = 8\n",
            "2 x 5 = 10\n",
            "2 x 6 = 12\n",
            "2 x 7 = 14\n",
            "2 x 8 = 16\n",
            "2 x 9 = 18\n",
            "2 x 10 = 20\n"
          ]
        }
      ]
    },
    {
      "cell_type": "code",
      "source": [
        "color_user = input(\"Que color estoy pensando: \")\n",
        "while color_cpu != color_user:\n",
        "    print(\"No. Ese no es el color que estoy pensando\")\n",
        "    color_user = input(\"Que color estoy pensando: \")\n",
        "print(\"Felicidades\")"
      ],
      "metadata": {
        "colab": {
          "base_uri": "https://localhost:8080/"
        },
        "id": "4Tu74iRDgLqF",
        "outputId": "4b257452-f4c0-485b-cb78-8b9e9f58a14f"
      },
      "execution_count": 5,
      "outputs": [
        {
          "output_type": "stream",
          "name": "stdout",
          "text": [
            "Que color estoy pensando: amarillo\n",
            "Felicidades\n"
          ]
        }
      ]
    }
  ]
}